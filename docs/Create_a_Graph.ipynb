{
 "cells": [
  {
   "cell_type": "code",
   "execution_count": 2,
   "metadata": {
    "dotnet_interactive": {
     "language": "fsharp"
    },
    "polyglot_notebook": {
     "kernelName": "fsharp"
    }
   },
   "outputs": [],
   "source": [
    "open System\n",
    "#r @\"C:\\Users\\lukas\\Documents\\GitHub\\Sigma.NET\\src\\Sigma.NET\\bin\\Release\\net6.0\\Sigma.NET.dll\" \n",
    "#r @\"C:\\Users\\lukas\\Documents\\GitHub\\Project\\Sigma.NET\\src\\Sigma.NET.Interactive\\bin\\Release\\net6.0\\Sigma.NET.Interactive.dll\"\n",
    "open Sigma.NET\n",
    "open Sigma.NET.Interactive"
   ]
  },
  {
   "cell_type": "markdown",
   "metadata": {},
   "source": [
    "# Creating a Graph"
   ]
  },
  {
   "cell_type": "markdown",
   "metadata": {},
   "source": [
    "In order to create a graph you first need to reference and open the Sigma.NET package. You can use the NuGet package manager to achieve this as shown in the following example."
   ]
  },
  {
   "cell_type": "code",
   "execution_count": 3,
   "metadata": {
    "dotnet_interactive": {
     "language": "fsharp"
    },
    "polyglot_notebook": {
     "kernelName": "fsharp"
    }
   },
   "outputs": [],
   "source": [
    "//loading the Sigma.Net package using NuGet and then opening it\n",
    "// #r \"nuget: Sigma.NET\"\n",
    "// open Sigma.NET"
   ]
  },
  {
   "cell_type": "code",
   "execution_count": 4,
   "metadata": {
    "dotnet_interactive": {
     "language": "fsharp"
    },
    "polyglot_notebook": {
     "kernelName": "fsharp"
    }
   },
   "outputs": [
    {
     "data": {
      "text/html": [
       "<div><div></div><div></div><div><strong>Installed Packages</strong><ul><li><span>DynamicObj, 2.0.0</span></li><li><span>Newtonsoft.Json, 13.0.3</span></li></ul></div></div>"
      ]
     },
     "metadata": {},
     "output_type": "display_data"
    }
   ],
   "source": [
    "#r \"nuget: DynamicObj\"\n",
    "#r \"nuget: Newtonsoft.Json\"\n",
    "\n",
    "open DynamicObj\n",
    "open Newtonsoft.Json\n"
   ]
  },
  {
   "cell_type": "code",
   "execution_count": 5,
   "metadata": {
    "dotnet_interactive": {
     "language": "fsharp"
    },
    "polyglot_notebook": {
     "kernelName": "fsharp"
    }
   },
   "outputs": [
    {
     "data": {
      "text/html": [
       "<div><div></div><div></div><div><strong>Installed Packages</strong><ul><li><span>DynamicObj, 2.0.0</span></li><li><span>Giraffe.ViewEngine, 1.4.0</span></li><li><span>Newtonsoft.Json, 13.0.3</span></li></ul></div></div>"
      ]
     },
     "metadata": {},
     "output_type": "display_data"
    }
   ],
   "source": [
    "//referencing and opening the other packages we need\n",
    "#r \"nuget: Giraffe.ViewEngine\"\n",
    "#r \"nuget: DynamicObj\"\n",
    "#r \"nuget: Newtonsoft.Json\"\n",
    "open Giraffe.ViewEngine\n",
    "open DynamicObj\n",
    "open Newtonsoft.Json"
   ]
  },
  {
   "cell_type": "markdown",
   "metadata": {},
   "source": [
    "If you want to create a simple graph you can do that by creating an empty graph and then adding nodes and edges to it one by one \n"
   ]
  },
  {
   "cell_type": "code",
   "execution_count": 13,
   "metadata": {
    "dotnet_interactive": {
     "language": "fsharp"
    },
    "polyglot_notebook": {
     "kernelName": "fsharp"
    }
   },
   "outputs": [],
   "source": [
    "// create an empty testGraph\n",
    "let testGraph = VisGraph.empty()\n",
    "\n",
    "// add single nodes and edges to the graph\n",
    "testGraph\n",
    "|> VisGraph.withNode(Node.Init(\"Alpha\")) //add the node \"Alpha\"\n",
    "|> VisGraph.withNode(Node.Init(\"Omega\")) //add the node \"Omega\"\n",
    "|> VisGraph.withEdge(Edge.Init(\"Alpha\",\"Omega\")) //add an edge from Alpha to Omega\n",
    "\n",
    "//show the graph as html\n",
    "VisGraph.show() testGraph\n",
    "\n",
    "\n",
    "\n",
    "// |> Sigma.NET.Interactive.Formatters.toInteractiveHTML"
   ]
  },
  {
   "cell_type": "markdown",
   "metadata": {},
   "source": [
    "Alternativly you can also add multiple nodes and edges at once to save some time\n",
    "\n"
   ]
  },
  {
   "cell_type": "code",
   "execution_count": 14,
   "metadata": {
    "dotnet_interactive": {
     "language": "fsharp"
    },
    "polyglot_notebook": {
     "kernelName": "fsharp"
    }
   },
   "outputs": [],
   "source": [
    "//Create a Node-Sequence, in this case a list but you can also use other sequence types like arrays or just a sequence\n",
    "let nodesToAdd = [1..10] |> List.map (fun x -> Node.Init(string x))\n",
    "\n",
    "// Creating an Edge Sequence\n",
    "let edgesToAdd =\n",
    "    [1,2; 2,5; 7,3; 1,4; 8,6; 4,1]\n",
    "    |> List.map (fun (x,y) -> string x, string y)\n",
    "    |> List.map (fun (x,y) -> Edge.Init(x,y))\n",
    "\n",
    "\n",
    "// Add the nodesequence and  edgesequence to a graph \n",
    "VisGraph.empty()\n",
    "|> VisGraph.withNodes(nodesToAdd) // add the node sequence\n",
    "|> VisGraph.withEdges(edgesToAdd) // add the edge sequence\n",
    "|> VisGraph.show()\n",
    "\n"
   ]
  },
  {
   "cell_type": "markdown",
   "metadata": {},
   "source": [
    "Now lets create an even more complex graph to show some additional style options you have "
   ]
  },
  {
   "cell_type": "code",
   "execution_count": 22,
   "metadata": {
    "dotnet_interactive": {
     "language": "fsharp"
    },
    "polyglot_notebook": {
     "kernelName": "fsharp"
    }
   },
   "outputs": [
    {
     "data": {
      "text/html": [
       "<div><div></div><div></div><div><strong>Installed Packages</strong><ul><li><span>Graphoscope, 0.4.0</span></li></ul></div></div>"
      ]
     },
     "metadata": {},
     "output_type": "display_data"
    }
   ],
   "source": [
    "// Reference the Graphoscope package\n",
    "#r \"nuget: Graphoscope, 0.4.0\"\n",
    "open System\n",
    "open Graphoscope\n",
    "open Graphoscope.RandomModels\n",
    "\n",
    "// Define colors for nodes\n",
    "let colors = [|\"#F2FFE9\";\"#A6CF98\";\"#557C55\";\"#FA7070\"|]\n",
    "\n",
    "// Initialize parameters for the graph model\n",
    "let N = 50\n",
    "let rnd = new Random()\n",
    "\n",
    "// Create a random graph using the BollobasRiordan model\n",
    "let myBollobasRiordan = RandomModels.BollobasRiordan.initDirectedFGraph N 0.5 0.1 0.4 0.6 0.4 FGraph.empty\n",
    "\n",
    "// Add nodes, using the DisplayData Parameter to style the nodes\n",
    "VisGraph.empty()\n",
    "|> VisGraph.withNodes[\n",
    "    for node in myBollobasRiordan do                                      \n",
    "        yield Node.Init(key=string node.Key, DisplayData=DisplayData.Init(Size=rnd.Next(1, 18), Color=colors.[rnd.Next(0, 4)], Label=string node.Key))//nodes with random size and random colours and the node name as lable\n",
    "]\n",
    "//Add edges, using the DisplayData Parameter to give each edge a random size\n",
    "|> VisGraph.withEdges[\n",
    "    for node in myBollobasRiordan do\n",
    "        let pred, t, _ = node.Value\n",
    "        for kv in pred do\n",
    "            yield Edge.Init(source=string kv.Key, target=string t, DisplayData=DisplayData.Init(Size=rnd.Next(1, 3)))\n",
    "]\n",
    "//CircularLayout gives the whole graph a circular layout\n",
    "|> VisGraph.withCircularLayout()\n",
    "//Set the lablecolour to red -> Now the lable for each node is the node name in red\n",
    "|> VisGraph.withRenderer(Render.Settings.Init(LabelColor=Render.ColorOrReference.Init(Color=\"#FA7070\")))\n",
    "//Adding the HoverSelector option to our graph This allows you to keep a good overview even over large graphs\n",
    "|> VisGraph.withHoverSelector()\n",
    "|> VisGraph.show()"
   ]
  },
  {
   "cell_type": "markdown",
   "metadata": {},
   "source": [
    "You can choose between 2 different Layouts, random or circular"
   ]
  },
  {
   "cell_type": "code",
   "execution_count": 27,
   "metadata": {
    "dotnet_interactive": {
     "language": "fsharp"
    },
    "polyglot_notebook": {
     "kernelName": "fsharp"
    }
   },
   "outputs": [],
   "source": [
    "let exampleGraph =\n",
    "    VisGraph.empty()\n",
    "    |> VisGraph.withNodes(([1 .. 100]|> List.map (fun x -> string x))|> List.map Node.Init)\n",
    "\n",
    "//Example random layout\n",
    "exampleGraph\n",
    "|> VisGraph.withRandomLayout()\n",
    "|> VisGraph.show()\n",
    "\n",
    "//Example circular Layout\n",
    "exampleGraph\n",
    "|> VisGraph.withCircularLayout()\n",
    "|> VisGraph.show()"
   ]
  },
  {
   "cell_type": "markdown",
   "metadata": {},
   "source": [
    "für display options will ich noch ein eigenes notebook machen\n"
   ]
  }
 ],
 "metadata": {
  "kernelspec": {
   "display_name": ".NET (C#)",
   "language": "C#",
   "name": ".net-csharp"
  },
  "polyglot_notebook": {
   "kernelInfo": {
    "defaultKernelName": "csharp",
    "items": [
     {
      "aliases": [],
      "name": "csharp"
     },
     {
      "aliases": [],
      "languageName": "fsharp",
      "name": "fsharp"
     }
    ]
   }
  }
 },
 "nbformat": 4,
 "nbformat_minor": 2
}
