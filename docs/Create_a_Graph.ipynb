{
 "cells": [
  {
   "cell_type": "markdown",
   "metadata": {},
   "source": []
  },
  {
   "cell_type": "code",
   "execution_count": 1,
   "metadata": {
    "dotnet_interactive": {
     "language": "fsharp"
    },
    "polyglot_notebook": {
     "kernelName": "fsharp"
    }
   },
   "outputs": [
    {
     "data": {
      "text/html": [
       "<div><div><strong>Restore sources</strong><ul><li><span> C:/Users/lukas/Documents/GitHub/Project/Sigma.NET/pkg</span></li></ul></div><div></div><div><strong>Installed Packages</strong><ul><li><span>DynamicObj, 2.0.0</span></li><li><span>Giraffe.ViewEngine, 1.4.0</span></li><li><span>Newtonsoft.Json, 13.0.3</span></li><li><span>Sigma.NET, 0.0.0-dev</span></li><li><span>Sigma.NET.Interactive, 0.0.0-dev</span></li></ul></div></div>"
      ]
     },
     "metadata": {},
     "output_type": "display_data"
    },
    {
     "data": {
      "text/plain": [
       "Loading extensions from `C:\\Users\\lukas\\.nuget\\packages\\sigma.net.interactive\\0.0.0-dev\\lib\\net8.0\\Sigma.NET.Interactive.dll`"
      ]
     },
     "metadata": {},
     "output_type": "display_data"
    }
   ],
   "source": [
    "#r \"nuget: Giraffe.ViewEngine\"\n",
    "#r \"nuget: DynamicObj\"\n",
    "#r \"nuget: Newtonsoft.Json\"\n",
    "#i \"nuget: C:/Users/lukas/Documents/GitHub/Project/Sigma.NET/pkg\"\n",
    "#r \"nuget: Sigma.NET, 0.0.0-dev\"\n",
    "#r \"nuget: Sigma.NET.Interactive, 0.0.0-dev\"\n",
    "#r \"nuget: DynamicObj\"\n",
    "#r \"nuget: Newtonsoft.Json\"\n",
    "open System\n",
    "open DynamicObj\n",
    "open Newtonsoft.Json\n",
    "open Sigma.NET\n",
    "open Sigma.NET.Interactive\n",
    "open Giraffe.ViewEngine\n",
    "open DynamicObj\n",
    "open Newtonsoft.Json"
   ]
  },
  {
   "cell_type": "markdown",
   "metadata": {},
   "source": [
    "# Creating a Graph"
   ]
  },
  {
   "cell_type": "markdown",
   "metadata": {},
   "source": [
    "In order to create a graph you first need to reference and open the Sigma.NET package. You can use the NuGet package manager to achieve this as shown in the following example."
   ]
  },
  {
   "cell_type": "code",
   "execution_count": 2,
   "metadata": {
    "dotnet_interactive": {
     "language": "fsharp"
    },
    "polyglot_notebook": {
     "kernelName": "fsharp"
    }
   },
   "outputs": [],
   "source": [
    "//loading the Sigma.Net package using NuGet and then opening it\n",
    "// #r \"nuget: Sigma.NET\"\n",
    "// open Sigma.NET"
   ]
  },
  {
   "cell_type": "markdown",
   "metadata": {},
   "source": [
    "If you want to create a simple graph you can do that by creating an empty graph and then adding nodes and edges to it one by one \n"
   ]
  },
  {
   "cell_type": "code",
   "execution_count": 3,
   "metadata": {
    "dotnet_interactive": {
     "language": "fsharp"
    },
    "polyglot_notebook": {
     "kernelName": "fsharp"
    }
   },
   "outputs": [
    {
     "data": {
      "text/html": [
       "<div id=\"graph\"><div id=\"ea5ed1682ba\" style=\"width: 100%; height: 900px\">&nbsp<!-- Sigma.NET graph will be drawn inside this DIV --></div><script type=\"text/javascript\">\r\n",
       "\r\n",
       "    require([\r\n",
       "        'https://cdnjs.cloudflare.com/ajax/libs/graphology/0.25.4/graphology.umd.min.js',\r\n",
       "        'https://cdnjs.cloudflare.com/ajax/libs/sigma.js/2.4.0/sigma.min.js',\r\n",
       "        'https://cdn.jsdelivr.net/npm/graphology-library@0.8.0/dist/graphology-library.min.js',\r\n",
       "    ], (graphology,_,graphologyLibrary)=>{          \r\n",
       "            const container = document.getElementById(\"ea5ed1682ba\");\r\n",
       "            const graph = new graphology.Graph();\r\n",
       "            graph.import({\"nodes\":[{\"key\":\"Alpha\"},{\"key\":\"Omega\"}],\"edges\":[{\"source\":\"Alpha\",\"target\":\"Omega\"}]});\r\n",
       "            graphologyLibrary.layout.random.assign(graph, {});  \r\n",
       "            const renderer = new Sigma(graph, container,{});\r\n",
       "                    \r\n",
       "        });\r\n",
       "    </script></div>"
      ]
     },
     "metadata": {},
     "output_type": "display_data"
    }
   ],
   "source": [
    "// create an empty testGraph\n",
    "let testGraph = VisGraph.empty()\n",
    "\n",
    "// add single nodes and edges to the graph\n",
    "testGraph\n",
    "|> VisGraph.withNode(Node.Init(\"Alpha\")) //add the node \"Alpha\"\n",
    "|> VisGraph.withNode(Node.Init(\"Omega\")) //add the node \"Omega\"\n",
    "|> VisGraph.withEdge(Edge.Init(\"Alpha\",\"Omega\")) //add an edge from Alpha to Omega\n",
    "\n",
    "//show the graph as html\n",
    "// VisGraph.show() testGraph\n",
    "\n",
    "\n",
    "\n",
    "// |> Sigma.NET.Interactive.Formatters.toInteractiveHTML"
   ]
  },
  {
   "cell_type": "markdown",
   "metadata": {},
   "source": [
    "Alternativly you can also add multiple nodes and edges at once to save some time\n",
    "\n"
   ]
  },
  {
   "cell_type": "code",
   "execution_count": 4,
   "metadata": {
    "dotnet_interactive": {
     "language": "fsharp"
    },
    "polyglot_notebook": {
     "kernelName": "fsharp"
    }
   },
   "outputs": [
    {
     "data": {
      "text/html": [
       "<div id=\"graph\"><div id=\"e2430efba9c\" style=\"width: 100%; height: 900px\">&nbsp<!-- Sigma.NET graph will be drawn inside this DIV --></div><script type=\"text/javascript\">\r\n",
       "\r\n",
       "    require([\r\n",
       "        'https://cdnjs.cloudflare.com/ajax/libs/graphology/0.25.4/graphology.umd.min.js',\r\n",
       "        'https://cdnjs.cloudflare.com/ajax/libs/sigma.js/2.4.0/sigma.min.js',\r\n",
       "        'https://cdn.jsdelivr.net/npm/graphology-library@0.8.0/dist/graphology-library.min.js',\r\n",
       "    ], (graphology,_,graphologyLibrary)=>{          \r\n",
       "            const container = document.getElementById(\"e2430efba9c\");\r\n",
       "            const graph = new graphology.Graph();\r\n",
       "            graph.import({\"nodes\":[{\"key\":\"1\"},{\"key\":\"2\"},{\"key\":\"3\"},{\"key\":\"4\"},{\"key\":\"5\"},{\"key\":\"6\"},{\"key\":\"7\"},{\"key\":\"8\"},{\"key\":\"9\"},{\"key\":\"10\"}],\"edges\":[{\"source\":\"1\",\"target\":\"2\"},{\"source\":\"2\",\"target\":\"5\"},{\"source\":\"7\",\"target\":\"3\"},{\"source\":\"1\",\"target\":\"4\"},{\"source\":\"8\",\"target\":\"6\"},{\"source\":\"4\",\"target\":\"1\"}]});\r\n",
       "            graphologyLibrary.layout.random.assign(graph, {});  \r\n",
       "            const renderer = new Sigma(graph, container,{});\r\n",
       "                    \r\n",
       "        });\r\n",
       "    </script></div>"
      ]
     },
     "metadata": {},
     "output_type": "display_data"
    }
   ],
   "source": [
    "//Create a Node-Sequence, in this case a list but you can also use other sequence types like arrays or just a sequence\n",
    "let nodesToAdd = [1..10] |> List.map (fun x -> Node.Init(string x))\n",
    "\n",
    "// Creating an Edge Sequence\n",
    "let edgesToAdd =\n",
    "    [1,2; 2,5; 7,3; 1,4; 8,6; 4,1]\n",
    "    |> List.map (fun (x,y) -> string x, string y)\n",
    "    |> List.map (fun (x,y) -> Edge.Init(x,y))\n",
    "\n",
    "\n",
    "// Add the nodesequence and  edgesequence to a graph \n",
    "VisGraph.empty()\n",
    "|> VisGraph.withNodes(nodesToAdd) // add the node sequence\n",
    "|> VisGraph.withEdges(edgesToAdd) // add the edge sequence\n",
    "// |> VisGraph.show()\n",
    "\n"
   ]
  },
  {
   "cell_type": "markdown",
   "metadata": {},
   "source": [
    "Now lets create an even more complex graph to show some additional style options you have "
   ]
  },
  {
   "cell_type": "code",
   "execution_count": 5,
   "metadata": {
    "dotnet_interactive": {
     "language": "fsharp"
    },
    "polyglot_notebook": {
     "kernelName": "fsharp"
    }
   },
   "outputs": [
    {
     "data": {
      "text/html": [
       "<div><div><strong>Restore sources</strong><ul><li><span> C:/Users/lukas/Documents/GitHub/Project/Sigma.NET/pkg</span></li></ul></div><div></div><div><strong>Installed Packages</strong><ul><li><span>Graphoscope, 0.4.0</span></li></ul></div></div>"
      ]
     },
     "metadata": {},
     "output_type": "display_data"
    },
    {
     "data": {
      "text/html": [
       "<div id=\"graph\"><div id=\"e031d556a32\" style=\"width: 100%; height: 900px\">&nbsp<!-- Sigma.NET graph will be drawn inside this DIV --></div><script type=\"text/javascript\">\r\n",
       "\r\n",
       "    require([\r\n",
       "        'https://cdnjs.cloudflare.com/ajax/libs/graphology/0.25.4/graphology.umd.min.js',\r\n",
       "        'https://cdnjs.cloudflare.com/ajax/libs/sigma.js/2.4.0/sigma.min.js',\r\n",
       "        'https://cdn.jsdelivr.net/npm/graphology-library@0.8.0/dist/graphology-library.min.js',\r\n",
       "    ], (graphology,_,graphologyLibrary)=>{          \r\n",
       "            const container = document.getElementById(\"e031d556a32\");\r\n",
       "            const graph = new graphology.Graph();\r\n",
       "            graph.import({\"nodes\":[{\"key\":\"0\",\"attributes\":{\"label\":\"0\",\"size\":14,\"color\":\"#A6CF98\"}},{\"key\":\"1\",\"attributes\":{\"label\":\"1\",\"size\":5,\"color\":\"#557C55\"}},{\"key\":\"2\",\"attributes\":{\"label\":\"2\",\"size\":11,\"color\":\"#F2FFE9\"}},{\"key\":\"3\",\"attributes\":{\"label\":\"3\",\"size\":6,\"color\":\"#557C55\"}},{\"key\":\"4\",\"attributes\":{\"label\":\"4\",\"size\":11,\"color\":\"#A6CF98\"}},{\"key\":\"5\",\"attributes\":{\"label\":\"5\",\"size\":2,\"color\":\"#FA7070\"}},{\"key\":\"6\",\"attributes\":{\"label\":\"6\",\"size\":17,\"color\":\"#557C55\"}},{\"key\":\"7\",\"attributes\":{\"label\":\"7\",\"size\":7,\"color\":\"#557C55\"}},{\"key\":\"8\",\"attributes\":{\"label\":\"8\",\"size\":12,\"color\":\"#FA7070\"}},{\"key\":\"9\",\"attributes\":{\"label\":\"9\",\"size\":14,\"color\":\"#557C55\"}},{\"key\":\"10\",\"attributes\":{\"label\":\"10\",\"size\":15,\"color\":\"#557C55\"}},{\"key\":\"11\",\"attributes\":{\"label\":\"11\",\"size\":15,\"color\":\"#F2FFE9\"}},{\"key\":\"12\",\"attributes\":{\"label\":\"12\",\"size\":8,\"color\":\"#F2FFE9\"}},{\"key\":\"13\",\"attributes\":{\"label\":\"13\",\"size\":11,\"color\":\"#FA7070\"}},{\"key\":\"14\",\"attributes\":{\"label\":\"14\",\"size\":14,\"color\":\"#557C55\"}},{\"key\":\"15\",\"attributes\":{\"label\":\"15\",\"size\":1,\"color\":\"#FA7070\"}},{\"key\":\"16\",\"attributes\":{\"label\":\"16\",\"size\":17,\"color\":\"#A6CF98\"}},{\"key\":\"17\",\"attributes\":{\"label\":\"17\",\"size\":14,\"color\":\"#F2FFE9\"}},{\"key\":\"18\",\"attributes\":{\"label\":\"18\",\"size\":8,\"color\":\"#F2FFE9\"}},{\"key\":\"19\",\"attributes\":{\"label\":\"19\",\"size\":4,\"color\":\"#FA7070\"}},{\"key\":\"20\",\"attributes\":{\"label\":\"20\",\"size\":9,\"color\":\"#A6CF98\"}},{\"key\":\"21\",\"attributes\":{\"label\":\"21\",\"size\":8,\"color\":\"#A6CF98\"}},{\"key\":\"22\",\"attributes\":{\"label\":\"22\",\"size\":2,\"color\":\"#F2FFE9\"}},{\"key\":\"23\",\"attributes\":{\"label\":\"23\",\"size\":10,\"color\":\"#557C55\"}},{\"key\":\"24\",\"attributes\":{\"label\":\"24\",\"size\":16,\"color\":\"#A6CF98\"}},{\"key\":\"25\",\"attributes\":{\"label\":\"25\",\"size\":10,\"color\":\"#FA7070\"}},{\"key\":\"26\",\"attributes\":{\"label\":\"26\",\"size\":14,\"color\":\"#A6CF98\"}},{\"key\":\"27\",\"attributes\":{\"label\":\"27\",\"size\":14,\"color\":\"#557C55\"}},{\"key\":\"28\",\"attributes\":{\"label\":\"28\",\"size\":5,\"color\":\"#FA7070\"}},{\"key\":\"29\",\"attributes\":{\"label\":\"29\",\"size\":12,\"color\":\"#A6CF98\"}},{\"key\":\"30\",\"attributes\":{\"label\":\"30\",\"size\":13,\"color\":\"#557C55\"}},{\"key\":\"31\",\"attributes\":{\"label\":\"31\",\"size\":17,\"color\":\"#557C55\"}},{\"key\":\"32\",\"attributes\":{\"label\":\"32\",\"size\":15,\"color\":\"#557C55\"}},{\"key\":\"33\",\"attributes\":{\"label\":\"33\",\"size\":11,\"color\":\"#A6CF98\"}},{\"key\":\"34\",\"attributes\":{\"label\":\"34\",\"size\":5,\"color\":\"#A6CF98\"}},{\"key\":\"35\",\"attributes\":{\"label\":\"35\",\"size\":5,\"color\":\"#A6CF98\"}},{\"key\":\"36\",\"attributes\":{\"label\":\"36\",\"size\":3,\"color\":\"#FA7070\"}},{\"key\":\"37\",\"attributes\":{\"label\":\"37\",\"size\":4,\"color\":\"#A6CF98\"}},{\"key\":\"38\",\"attributes\":{\"label\":\"38\",\"size\":5,\"color\":\"#F2FFE9\"}},{\"key\":\"39\",\"attributes\":{\"label\":\"39\",\"size\":2,\"color\":\"#F2FFE9\"}},{\"key\":\"40\",\"attributes\":{\"label\":\"40\",\"size\":15,\"color\":\"#557C55\"}},{\"key\":\"41\",\"attributes\":{\"label\":\"41\",\"size\":15,\"color\":\"#557C55\"}},{\"key\":\"42\",\"attributes\":{\"label\":\"42\",\"size\":9,\"color\":\"#F2FFE9\"}},{\"key\":\"43\",\"attributes\":{\"label\":\"43\",\"size\":2,\"color\":\"#A6CF98\"}},{\"key\":\"44\",\"attributes\":{\"label\":\"44\",\"size\":15,\"color\":\"#557C55\"}},{\"key\":\"45\",\"attributes\":{\"label\":\"45\",\"size\":16,\"color\":\"#FA7070\"}},{\"key\":\"46\",\"attributes\":{\"label\":\"46\",\"size\":5,\"color\":\"#A6CF98\"}},{\"key\":\"47\",\"attributes\":{\"label\":\"47\",\"size\":13,\"color\":\"#557C55\"}},{\"key\":\"48\",\"attributes\":{\"label\":\"48\",\"size\":2,\"color\":\"#FA7070\"}},{\"key\":\"49\",\"attributes\":{\"label\":\"49\",\"size\":10,\"color\":\"#FA7070\"}}],\"edges\":[{\"source\":\"2\",\"target\":\"0\",\"attributes\":{\"size\":1}},{\"source\":\"14\",\"target\":\"0\",\"attributes\":{\"size\":1}},{\"source\":\"0\",\"target\":\"1\",\"attributes\":{\"size\":1}},{\"source\":\"3\",\"target\":\"1\",\"attributes\":{\"size\":1}},{\"source\":\"19\",\"target\":\"1\",\"attributes\":{\"size\":2}},{\"source\":\"43\",\"target\":\"1\",\"attributes\":{\"size\":2}},{\"source\":\"1\",\"target\":\"2\",\"attributes\":{\"size\":1}},{\"source\":\"4\",\"target\":\"2\",\"attributes\":{\"size\":2}},{\"source\":\"10\",\"target\":\"2\",\"attributes\":{\"size\":2}},{\"source\":\"11\",\"target\":\"2\",\"attributes\":{\"size\":2}},{\"source\":\"2\",\"target\":\"2\",\"attributes\":{\"size\":1}},{\"source\":\"17\",\"target\":\"2\",\"attributes\":{\"size\":2}},{\"source\":\"20\",\"target\":\"2\",\"attributes\":{\"size\":2}},{\"source\":\"3\",\"target\":\"2\",\"attributes\":{\"size\":1}},{\"source\":\"33\",\"target\":\"2\",\"attributes\":{\"size\":1}},{\"source\":\"35\",\"target\":\"2\",\"attributes\":{\"size\":1}},{\"source\":\"41\",\"target\":\"2\",\"attributes\":{\"size\":2}},{\"source\":\"48\",\"target\":\"2\",\"attributes\":{\"size\":1}},{\"source\":\"15\",\"target\":\"3\",\"attributes\":{\"size\":2}},{\"source\":\"16\",\"target\":\"3\",\"attributes\":{\"size\":2}},{\"source\":\"34\",\"target\":\"3\",\"attributes\":{\"size\":2}},{\"source\":\"49\",\"target\":\"3\",\"attributes\":{\"size\":1}},{\"source\":\"31\",\"target\":\"4\",\"attributes\":{\"size\":2}},{\"source\":\"3\",\"target\":\"5\",\"attributes\":{\"size\":2}},{\"source\":\"4\",\"target\":\"6\",\"attributes\":{\"size\":2}},{\"source\":\"7\",\"target\":\"6\",\"attributes\":{\"size\":2}},{\"source\":\"9\",\"target\":\"6\",\"attributes\":{\"size\":1}},{\"source\":\"10\",\"target\":\"6\",\"attributes\":{\"size\":1}},{\"source\":\"13\",\"target\":\"6\",\"attributes\":{\"size\":2}},{\"source\":\"29\",\"target\":\"6\",\"attributes\":{\"size\":1}},{\"source\":\"30\",\"target\":\"6\",\"attributes\":{\"size\":2}},{\"source\":\"1\",\"target\":\"8\",\"attributes\":{\"size\":2}},{\"source\":\"12\",\"target\":\"8\",\"attributes\":{\"size\":2}},{\"source\":\"26\",\"target\":\"9\",\"attributes\":{\"size\":1}},{\"source\":\"46\",\"target\":\"13\",\"attributes\":{\"size\":2}},{\"source\":\"40\",\"target\":\"14\",\"attributes\":{\"size\":1}},{\"source\":\"47\",\"target\":\"15\",\"attributes\":{\"size\":1}},{\"source\":\"27\",\"target\":\"16\",\"attributes\":{\"size\":1}},{\"source\":\"17\",\"target\":\"16\",\"attributes\":{\"size\":1}},{\"source\":\"45\",\"target\":\"16\",\"attributes\":{\"size\":2}},{\"source\":\"13\",\"target\":\"18\",\"attributes\":{\"size\":2}},{\"source\":\"32\",\"target\":\"18\",\"attributes\":{\"size\":1}},{\"source\":\"36\",\"target\":\"18\",\"attributes\":{\"size\":2}},{\"source\":\"15\",\"target\":\"21\",\"attributes\":{\"size\":1}},{\"source\":\"3\",\"target\":\"22\",\"attributes\":{\"size\":1}},{\"source\":\"39\",\"target\":\"22\",\"attributes\":{\"size\":2}},{\"source\":\"11\",\"target\":\"23\",\"attributes\":{\"size\":2}},{\"source\":\"0\",\"target\":\"24\",\"attributes\":{\"size\":1}},{\"source\":\"4\",\"target\":\"25\",\"attributes\":{\"size\":2}},{\"source\":\"3\",\"target\":\"28\",\"attributes\":{\"size\":2}},{\"source\":\"15\",\"target\":\"29\",\"attributes\":{\"size\":2}},{\"source\":\"37\",\"target\":\"32\",\"attributes\":{\"size\":2}},{\"source\":\"4\",\"target\":\"38\",\"attributes\":{\"size\":2}},{\"source\":\"17\",\"target\":\"42\",\"attributes\":{\"size\":2}},{\"source\":\"17\",\"target\":\"44\",\"attributes\":{\"size\":1}}]});\r\n",
       "            graphologyLibrary.layout.circular.assign(graph, {});  \r\n",
       "            const renderer = new Sigma(graph, container,{\"labelColor\":{\"color\":\"#FA7070\"}});\r\n",
       "            const state={};function setHoveredNode(e){e?(state.hoveredNode=e,state.hoveredNeighbors=new Set(graph.neighbors(e))):(state.hoveredNode=void 0,state.hoveredNeighbors=void 0),renderer.refresh()}renderer.on(\"enterNode\",({node:e})=>{setHoveredNode(e)}),renderer.on(\"leaveNode\",()=>{setHoveredNode(void 0)}),renderer.setSetting(\"nodeReducer\",(e,t)=>{let o=t;return state.hoveredNeighbors&&!state.hoveredNeighbors.has(e)&&state.hoveredNode!==e&&(o.label=\"\",o.color=\"#f6f6f6\"),o}),renderer.setSetting(\"edgeReducer\",(e,t)=>{let o=t;return state.hoveredNode&&!graph.hasExtremity(e,state.hoveredNode)&&(o.hidden=!0),o});         \r\n",
       "        });\r\n",
       "    </script></div>"
      ]
     },
     "metadata": {},
     "output_type": "display_data"
    }
   ],
   "source": [
    "// Reference the Graphoscope package\n",
    "#r \"nuget: Graphoscope, 0.4.0\"\n",
    "open System\n",
    "open Graphoscope\n",
    "open Graphoscope.RandomModels\n",
    "\n",
    "// Define colors for nodes\n",
    "let colors = [|\"#F2FFE9\";\"#A6CF98\";\"#557C55\";\"#FA7070\"|]\n",
    "\n",
    "// Initialize parameters for the graph model\n",
    "let N = 50\n",
    "let rnd = new Random()\n",
    "\n",
    "// Create a random graph using the BollobasRiordan model\n",
    "let myBollobasRiordan = RandomModels.BollobasRiordan.initDirectedFGraph N 0.5 0.1 0.4 0.6 0.4 FGraph.empty\n",
    "\n",
    "// Add nodes, using the DisplayData Parameter to style the nodes\n",
    "VisGraph.empty()\n",
    "|> VisGraph.withNodes[\n",
    "    for node in myBollobasRiordan do                                      \n",
    "        yield Node.Init(key=string node.Key, DisplayData=DisplayData.Init(Size=rnd.Next(1, 18), Color=colors.[rnd.Next(0, 4)], Label=string node.Key))//nodes with random size and random colours and the node name as lable\n",
    "]\n",
    "//Add edges, using the DisplayData Parameter to give each edge a random size\n",
    "|> VisGraph.withEdges[\n",
    "    for node in myBollobasRiordan do\n",
    "        let pred, t, _ = node.Value\n",
    "        for kv in pred do\n",
    "            yield Edge.Init(source=string kv.Key, target=string t, DisplayData=DisplayData.Init(Size=rnd.Next(1, 3)))\n",
    "]\n",
    "//CircularLayout gives the whole graph a circular layout\n",
    "|> VisGraph.withCircularLayout()\n",
    "//Set the lablecolour to red -> Now the lable for each node is the node name in red\n",
    "|> VisGraph.withRenderer(Render.Settings.Init(LabelColor=Render.ColorOrReference.Init(Color=\"#FA7070\")))\n",
    "//Adding the HoverSelector option to our graph This allows you to keep a good overview even over large graphs\n",
    "|> VisGraph.withHoverSelector()\n",
    "// |> VisGraph.show()"
   ]
  },
  {
   "cell_type": "markdown",
   "metadata": {},
   "source": [
    "You can choose between 2 different Layouts, random or circular"
   ]
  },
  {
   "cell_type": "code",
   "execution_count": 6,
   "metadata": {
    "dotnet_interactive": {
     "language": "fsharp"
    },
    "polyglot_notebook": {
     "kernelName": "fsharp"
    }
   },
   "outputs": [
    {
     "data": {
      "text/html": [
       "<div id=\"graph\"><div id=\"e316698215e\" style=\"width: 100%; height: 900px\">&nbsp<!-- Sigma.NET graph will be drawn inside this DIV --></div><script type=\"text/javascript\">\r\n",
       "\r\n",
       "    require([\r\n",
       "        'https://cdnjs.cloudflare.com/ajax/libs/graphology/0.25.4/graphology.umd.min.js',\r\n",
       "        'https://cdnjs.cloudflare.com/ajax/libs/sigma.js/2.4.0/sigma.min.js',\r\n",
       "        'https://cdn.jsdelivr.net/npm/graphology-library@0.8.0/dist/graphology-library.min.js',\r\n",
       "    ], (graphology,_,graphologyLibrary)=>{          \r\n",
       "            const container = document.getElementById(\"e316698215e\");\r\n",
       "            const graph = new graphology.Graph();\r\n",
       "            graph.import({\"nodes\":[{\"key\":\"1\"},{\"key\":\"2\"},{\"key\":\"3\"},{\"key\":\"4\"},{\"key\":\"5\"},{\"key\":\"6\"},{\"key\":\"7\"},{\"key\":\"8\"},{\"key\":\"9\"},{\"key\":\"10\"},{\"key\":\"11\"},{\"key\":\"12\"},{\"key\":\"13\"},{\"key\":\"14\"},{\"key\":\"15\"},{\"key\":\"16\"},{\"key\":\"17\"},{\"key\":\"18\"},{\"key\":\"19\"},{\"key\":\"20\"},{\"key\":\"21\"},{\"key\":\"22\"},{\"key\":\"23\"},{\"key\":\"24\"},{\"key\":\"25\"},{\"key\":\"26\"},{\"key\":\"27\"},{\"key\":\"28\"},{\"key\":\"29\"},{\"key\":\"30\"},{\"key\":\"31\"},{\"key\":\"32\"},{\"key\":\"33\"},{\"key\":\"34\"},{\"key\":\"35\"},{\"key\":\"36\"},{\"key\":\"37\"},{\"key\":\"38\"},{\"key\":\"39\"},{\"key\":\"40\"},{\"key\":\"41\"},{\"key\":\"42\"},{\"key\":\"43\"},{\"key\":\"44\"},{\"key\":\"45\"},{\"key\":\"46\"},{\"key\":\"47\"},{\"key\":\"48\"},{\"key\":\"49\"},{\"key\":\"50\"},{\"key\":\"51\"},{\"key\":\"52\"},{\"key\":\"53\"},{\"key\":\"54\"},{\"key\":\"55\"},{\"key\":\"56\"},{\"key\":\"57\"},{\"key\":\"58\"},{\"key\":\"59\"},{\"key\":\"60\"},{\"key\":\"61\"},{\"key\":\"62\"},{\"key\":\"63\"},{\"key\":\"64\"},{\"key\":\"65\"},{\"key\":\"66\"},{\"key\":\"67\"},{\"key\":\"68\"},{\"key\":\"69\"},{\"key\":\"70\"},{\"key\":\"71\"},{\"key\":\"72\"},{\"key\":\"73\"},{\"key\":\"74\"},{\"key\":\"75\"},{\"key\":\"76\"},{\"key\":\"77\"},{\"key\":\"78\"},{\"key\":\"79\"},{\"key\":\"80\"},{\"key\":\"81\"},{\"key\":\"82\"},{\"key\":\"83\"},{\"key\":\"84\"},{\"key\":\"85\"},{\"key\":\"86\"},{\"key\":\"87\"},{\"key\":\"88\"},{\"key\":\"89\"},{\"key\":\"90\"},{\"key\":\"91\"},{\"key\":\"92\"},{\"key\":\"93\"},{\"key\":\"94\"},{\"key\":\"95\"},{\"key\":\"96\"},{\"key\":\"97\"},{\"key\":\"98\"},{\"key\":\"99\"},{\"key\":\"100\"}],\"edges\":[]});\r\n",
       "            graphologyLibrary.layout.circular.assign(graph, {});  \r\n",
       "            const renderer = new Sigma(graph, container,{});\r\n",
       "                    \r\n",
       "        });\r\n",
       "    </script></div>"
      ]
     },
     "metadata": {},
     "output_type": "display_data"
    }
   ],
   "source": [
    "let exampleGraph =\n",
    "    VisGraph.empty()\n",
    "    |> VisGraph.withNodes(([1 .. 100]|> List.map (fun x -> string x))|> List.map Node.Init)\n",
    "\n",
    "//Example random layout\n",
    "exampleGraph\n",
    "|> VisGraph.withRandomLayout()\n",
    "// |> VisGraph.show()\n",
    "\n",
    "//Example circular Layout\n",
    "exampleGraph\n",
    "|> VisGraph.withCircularLayout()\n",
    "// |> VisGraph.show()"
   ]
  },
  {
   "cell_type": "markdown",
   "metadata": {},
   "source": [
    "für display options will ich noch ein eigenes notebook machen\n"
   ]
  }
 ],
 "metadata": {
  "kernelspec": {
   "display_name": ".NET (C#)",
   "language": "C#",
   "name": ".net-csharp"
  },
  "polyglot_notebook": {
   "kernelInfo": {
    "defaultKernelName": "csharp",
    "items": [
     {
      "aliases": [],
      "name": "csharp"
     },
     {
      "aliases": [],
      "languageName": "fsharp",
      "name": "fsharp"
     }
    ]
   }
  }
 },
 "nbformat": 4,
 "nbformat_minor": 2
}
