{
 "cells": [
  {
   "cell_type": "markdown",
   "metadata": {},
   "source": [
    "# Advanced Usage \n",
    "## Installing the required Librarys"
   ]
  },
  {
   "cell_type": "code",
   "execution_count": null,
   "metadata": {
    "dotnet_interactive": {
     "language": "fsharp"
    },
    "polyglot_notebook": {
     "kernelName": "fsharp"
    }
   },
   "outputs": [],
   "source": [
    "//Sigma.NET and Sigma.NET.Interactive\n",
    "#i \"nuget: C:/Users/lukas/Documents/GitHub/Project/Sigma.NET/pkg\"\n",
    "#r \"nuget: Sigma.NET, 0.0.0-dev\"\n",
    "#r \"nuget: Sigma.NET.Interactive, 0.0.0-dev\"\n",
    "//Additional Librarys\n",
    "#r \"nuget: DynamicObj\"\n",
    "#r \"nuget: Newtonsoft.Json\"\n",
    "#r \"nuget: Giraffe.ViewEngine\"\n",
    "\n",
    "\n",
    "open Sigma.NET\n",
    "open Sigma.NET.Interactive\n",
    "\n",
    "open System\n",
    "open DynamicObj\n",
    "open Newtonsoft.Json\n",
    "open Giraffe.ViewEngine"
   ]
  },
  {
   "cell_type": "markdown",
   "metadata": {},
   "source": [
    "## Adding multiple nodes at once"
   ]
  },
  {
   "cell_type": "code",
   "execution_count": null,
   "metadata": {
    "dotnet_interactive": {
     "language": "fsharp"
    },
    "polyglot_notebook": {
     "kernelName": "fsharp"
    }
   },
   "outputs": [],
   "source": [
    "//Create a Node-Sequence, in this case a list but you can also use other sequence types like arrays or just a sequence\n",
    "let nodesToAdd = [1..10] |> List.map (fun x -> Node.Init(string x, DisplayData.Init(Label = string x, Size= 15)))\n",
    "\n",
    "// Creating an Edge Sequence\n",
    "let edgesToAdd = [1,2; 2,5; 7,3; 1,4; 8,6; 4,1] |> List.map (fun (x,y) -> Edge.Init(string x,string y))\n",
    "\n",
    "// Add the nodesequence and  edgesequence to an empty graph \n",
    "VisGraph.empty()\n",
    "|> VisGraph.withNodes(nodesToAdd) // add the node sequence\n",
    "|> VisGraph.withEdges(edgesToAdd) // add the edge sequence\n",
    "|> VisGraph.withCircularLayout()  // choosing the desired Layout"
   ]
  },
  {
   "cell_type": "markdown",
   "metadata": {},
   "source": [
    "![image info](img\\advancedUsageGraph1.png)"
   ]
  },
  {
   "cell_type": "markdown",
   "metadata": {},
   "source": [
    "## Creating complex Networks and using other Librarys together with Sigma.NET"
   ]
  },
  {
   "cell_type": "code",
   "execution_count": null,
   "metadata": {
    "dotnet_interactive": {
     "language": "fsharp"
    },
    "polyglot_notebook": {
     "kernelName": "fsharp"
    }
   },
   "outputs": [],
   "source": [
    "// Reference the Graphoscope package\n",
    "#r \"nuget: Graphoscope, 0.4.0\"\n",
    "open Graphoscope\n",
    "open Graphoscope.RandomModels\n",
    "\n",
    "// Define colors for nodes\n",
    "let colors = [|\"#F2FFE9\";\"#A6CF98\";\"#557C55\";\"#FA7070\"|]\n",
    "\n",
    "// Initialize parameters for the graph model\n",
    "let N = 50\n",
    "let rnd = new Random()\n",
    "\n",
    "// Create a random graph using the BollobasRiordan model\n",
    "let myBollobasRiordan = RandomModels.BollobasRiordan.initDirectedFGraph N 0.5 0.1 0.4 0.6 0.4 FGraph.empty\n",
    "\n",
    "// Add nodes, using the DisplayData Parameter to style the nodes\n",
    "VisGraph.empty()\n",
    "|> VisGraph.withNodes[\n",
    "    for node in myBollobasRiordan do                                      \n",
    "        yield Node.Init(key=string node.Key, DisplayData=DisplayData.Init(Size=rnd.Next(1, 18), Color=colors.[rnd.Next(0, 4)], Label=string node.Key))//nodes with random size and random colours and the node name as lable\n",
    "]\n",
    "//Add edges, using the DisplayData Parameter to give each edge a random size\n",
    "|> VisGraph.withEdges[\n",
    "    for node in myBollobasRiordan do\n",
    "        let pred, t, _ = node.Value\n",
    "        for kv in pred do\n",
    "            yield Edge.Init(source=string kv.Key, target=string t, DisplayData=DisplayData.Init(Size=rnd.Next(1, 3)))\n",
    "]\n",
    "//CircularLayout gives the whole graph a circular layout\n",
    "|> VisGraph.withCircularLayout()\n",
    "//Set the lablecolour to red -> Now the lable for each node is the node name in red\n",
    "|> VisGraph.withRenderer(Render.Settings.Init(LabelColor=Render.ColorOrReference.Init(Color=\"#FA7070\")))\n",
    "//Adding the HoverSelector option to our graph This allows you to keep a good overview even over large graphs\n",
    "|> VisGraph.withHoverSelector()"
   ]
  },
  {
   "cell_type": "markdown",
   "metadata": {},
   "source": [
    "![image info](img\\advancedUsageGraph2.png)"
   ]
  }
 ],
 "metadata": {
  "kernelspec": {
   "display_name": ".NET (C#)",
   "language": "C#",
   "name": ".net-csharp"
  },
  "polyglot_notebook": {
   "kernelInfo": {
    "defaultKernelName": "csharp",
    "items": [
     {
      "aliases": [],
      "name": "csharp"
     },
     {
      "aliases": [],
      "languageName": "fsharp",
      "name": "fsharp"
     }
    ]
   }
  }
 },
 "nbformat": 4,
 "nbformat_minor": 2
}
