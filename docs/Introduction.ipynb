{
 "cells": [
  {
   "cell_type": "markdown",
   "metadata": {},
   "source": [
    "# Introduction\n",
    "\n",
    "## Sigma.NET\n",
    "Sigma.NET is a powerful library for graph visualization and analysis that provides many style options to customize your graph exactly how you want to.\n",
    "## Graphs \n",
    "A graph is a mathematical structure used to model pairwise relationships between objects. It consists of a set of nodes (also called vertices) and a set of edges (also called links or connections) that connect pairs of nodes. Graphs are widely used in various fields such as computer science, biology, social sciences, and network science to represent and analyze networks.\n",
    "\n",
    "## Nodes (Vertices)\n",
    "Nodes are the individual entities or points in a graph. Each node can represent a different object, such as a person in a social network, a gene in a biological network, or a computer in a communication network. Nodes are typically depicted as dots or circles in a graphical representation.\n",
    "\n",
    "## Edges (Links)\n",
    "Edges are the connections between nodes in a graph. Each edge represents a relationship or interaction between two nodes. Edges can be directed or undirected:\n",
    "\n",
    "- Undirected Edges: Represent bidirectional relationships where the connection does not have a specific direction (e.g., friendship in a social network).\n",
    "- Directed Edges: Represent unidirectional relationships where the connection has a specific direction (e.g., a follower relationship in Twitter).\n",
    "\n",
    "These basic concepts form the foundation for understanding and visualizing graphs."
   ]
  },
  {
   "cell_type": "code",
   "execution_count": 14,
   "metadata": {
    "dotnet_interactive": {
     "language": "fsharp"
    },
    "polyglot_notebook": {
     "kernelName": "fsharp"
    }
   },
   "outputs": [
    {
     "data": {
      "text/html": [
       "<div><div><strong>Restore sources</strong><ul><li><span> C:/Users/lukas/Documents/GitHub/Project/Sigma.NET/pkg</span></li></ul></div><div></div><div><strong>Installed Packages</strong><ul><li><span>DynamicObj, 2.0.0</span></li><li><span>Giraffe.ViewEngine, 1.4.0</span></li><li><span>Newtonsoft.Json, 13.0.3</span></li><li><span>Sigma.NET, 0.0.0-dev</span></li><li><span>Sigma.NET.Interactive, 0.0.0-dev</span></li></ul></div></div>"
      ]
     },
     "metadata": {},
     "output_type": "display_data"
    }
   ],
   "source": [
    "//swap this out for nuget eventually\n",
    "#r \"nuget: Giraffe.ViewEngine\"\n",
    "#r \"nuget: DynamicObj\"\n",
    "#r \"nuget: Newtonsoft.Json\"\n",
    "#i \"nuget: C:/Users/lukas/Documents/GitHub/Project/Sigma.NET/pkg\"\n",
    "#r \"nuget: Sigma.NET, 0.0.0-dev\"\n",
    "#r \"nuget: Sigma.NET.Interactive, 0.0.0-dev\"\n",
    "#r \"nuget: DynamicObj\"\n",
    "#r \"nuget: Newtonsoft.Json\"\n",
    "open System\n",
    "open DynamicObj\n",
    "open Newtonsoft.Json\n",
    "open Sigma.NET\n",
    "open Sigma.NET.Interactive\n",
    "open Giraffe.ViewEngine\n",
    "open DynamicObj\n",
    "open Newtonsoft.Json"
   ]
  },
  {
   "cell_type": "markdown",
   "metadata": {},
   "source": [
    "To create a node or an edge you can use the Init function like shown here :\n"
   ]
  },
  {
   "cell_type": "code",
   "execution_count": 15,
   "metadata": {
    "dotnet_interactive": {
     "language": "fsharp"
    },
    "polyglot_notebook": {
     "kernelName": "fsharp"
    }
   },
   "outputs": [],
   "source": [
    "let exampleNodeA = Node.Init(\"A\")\n",
    "let exampleNodeB = Node.Init(\"B\")\n",
    "let exampleEdge = Edge.Init(\"A\",\"B\")"
   ]
  },
  {
   "cell_type": "markdown",
   "metadata": {},
   "source": [
    "You can create a styled node or edge like this but you can also style your nodes later on."
   ]
  },
  {
   "cell_type": "code",
   "execution_count": 26,
   "metadata": {
    "dotnet_interactive": {
     "language": "fsharp"
    },
    "polyglot_notebook": {
     "kernelName": "fsharp"
    }
   },
   "outputs": [],
   "source": [
    "let exampleNodeC= Node.Init(key = \"C\", DisplayData =  DisplayData.Init(Label= \"C\",Size= 10,Color = \"#FF0000\", Hidden = false, ForceLabel = true))\n",
    "let exampleNodeD = Node.Init(key=\"D\", DisplayData= DisplayData.Init(Label= \"D\", Size= 10,Color =\"#FF0000\",Hidden = false, ForceLabel = true))\n",
    "let exampleEdge2 = Edge.Init(source= \"C\",target=\"D\",Key= \"Edge 2\",DisplayData= DisplayData.Init(Label= \"Edge 2\", Size= 10,Color =\"#FF0000\",Hidden = false, ForceLabel = true))"
   ]
  },
  {
   "cell_type": "code",
   "execution_count": 27,
   "metadata": {
    "dotnet_interactive": {
     "language": "fsharp"
    },
    "polyglot_notebook": {
     "kernelName": "fsharp"
    }
   },
   "outputs": [
    {
     "data": {
      "text/html": [
       "<div id=\"graph\"><div id=\"ee8f9d8f851\" style=\"width: 100%; height: 900px\">&nbsp<!-- Sigma.NET graph will be drawn inside this DIV --></div><script type=\"text/javascript\">\r\n",
       "\r\n",
       "    require([\r\n",
       "        'https://cdnjs.cloudflare.com/ajax/libs/graphology/0.25.4/graphology.umd.min.js',\r\n",
       "        'https://cdnjs.cloudflare.com/ajax/libs/sigma.js/2.4.0/sigma.min.js',\r\n",
       "        'https://cdn.jsdelivr.net/npm/graphology-library@0.8.0/dist/graphology-library.min.js',\r\n",
       "    ], (graphology,_,graphologyLibrary)=>{          \r\n",
       "            const container = document.getElementById(\"ee8f9d8f851\");\r\n",
       "            const graph = new graphology.Graph();\r\n",
       "            graph.import({\"nodes\":[{\"key\":\"A\"},{\"key\":\"B\"},{\"key\":\"C\",\"attributes\":{\"label\":\"C\",\"size\":10,\"color\":\"#FF0000\",\"hidden\":false,\"forceLabel\":true}},{\"key\":\"D\",\"attributes\":{\"label\":\"D\",\"size\":10,\"color\":\"#FF0000\",\"hidden\":false,\"forceLabel\":true}}],\"edges\":[{\"source\":\"A\",\"target\":\"B\"},{\"source\":\"C\",\"target\":\"D\",\"key\":\"Edge 2\",\"attributes\":{\"label\":\"Edge 2\",\"size\":10,\"color\":\"#FF0000\",\"hidden\":false,\"forceLabel\":true}}]});\r\n",
       "            graphologyLibrary.layout.random.assign(graph, {});  \r\n",
       "            const renderer = new Sigma(graph, container,{});\r\n",
       "                    \r\n",
       "        });\r\n",
       "    </script></div>"
      ]
     },
     "metadata": {},
     "output_type": "display_data"
    }
   ],
   "source": [
    "VisGraph.empty()\n",
    "|> VisGraph.withNodes([exampleNodeA;exampleNodeB;exampleNodeC;exampleNodeD])\n",
    "|> VisGraph.withEdges([exampleEdge; exampleEdge2])\n",
    "// |> VisGraph.show()"
   ]
  }
 ],
 "metadata": {
  "kernelspec": {
   "display_name": ".NET (F#)",
   "language": "F#",
   "name": ".net-fsharp"
  },
  "polyglot_notebook": {
   "kernelInfo": {
    "defaultKernelName": "fsharp",
    "items": [
     {
      "aliases": [],
      "languageName": "fsharp",
      "name": "fsharp"
     }
    ]
   }
  }
 },
 "nbformat": 4,
 "nbformat_minor": 2
}
