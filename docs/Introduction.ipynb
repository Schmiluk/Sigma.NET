{
 "cells": [
  {
   "cell_type": "markdown",
   "metadata": {},
   "source": [
    "# Introduction\n",
    "\n",
    "## Sigma.NET\n",
    "Sigma.NET is a powerful library for graph visualization and analysis that provides many style options to customize your graph exactly how you want to.\n",
    "## Graphs \n",
    "A graph is a mathematical structure used to model pairwise relationships between objects. It consists of a set of nodes (also called vertices) and a set of edges (also called links or connections) that connect pairs of nodes. Graphs are widely used in various fields such as computer science, biology, social sciences, and network science to represent and analyze networks.\n",
    "\n",
    "## Nodes (Vertices)\n",
    "Nodes are the individual entities or points in a graph. Each node can represent a different object, such as a person in a social network, a gene in a biological network, or a computer in a communication network. Nodes are typically depicted as dots or circles in a graphical representation.\n",
    "\n",
    "## Edges (Links)\n",
    "Edges are the connections between nodes in a graph. Each edge represents a relationship or interaction between two nodes. Edges can be directed or undirected:\n",
    "\n",
    "- Undirected Edges: Represent bidirectional relationships where the connection does not have a specific direction (e.g., friendship in a social network).\n",
    "- Directed Edges: Represent unidirectional relationships where the connection has a specific direction (e.g., a follower relationship in Twitter).\n",
    "\n",
    "These basic concepts form the foundation for understanding and visualizing graphs."
   ]
  },
  {
   "cell_type": "code",
   "execution_count": null,
   "metadata": {
    "dotnet_interactive": {
     "language": "fsharp"
    },
    "polyglot_notebook": {
     "kernelName": "fsharp"
    }
   },
   "outputs": [],
   "source": [
    "//swap this out for nuget eventually\n",
    "open System\n",
    "#r @\"C:\\Users\\lukas\\Documents\\GitHub\\Sigma.NET\\src\\Sigma.NET\\bin\\Release\\net6.0\\Sigma.NET.dll\" \n",
    "#r @\"C:\\Users\\lukas\\Documents\\GitHub\\Project\\Sigma.NET\\src\\Sigma.NET.Interactive\\bin\\Release\\net6.0\\Sigma.NET.Interactive.dll\"\n",
    "open Sigma.NET\n",
    "open Sigma.NET.Interactive\n",
    "#r \"nuget: DynamicObj\"\n",
    "#r \"nuget: Newtonsoft.Json\"\n",
    "\n",
    "open DynamicObj\n",
    "open Newtonsoft.Json\n",
    "#r \"nuget: Giraffe.ViewEngine\"\n",
    "#r \"nuget: DynamicObj\"\n",
    "#r \"nuget: Newtonsoft.Json\"\n",
    "open Giraffe.ViewEngine\n",
    "open DynamicObj\n",
    "open Newtonsoft.Json"
   ]
  },
  {
   "cell_type": "markdown",
   "metadata": {},
   "source": [
    "To create a node or an edge you can use the Init function like shown here :\n"
   ]
  },
  {
   "cell_type": "code",
   "execution_count": null,
   "metadata": {
    "dotnet_interactive": {
     "language": "fsharp"
    },
    "polyglot_notebook": {
     "kernelName": "fsharp"
    }
   },
   "outputs": [],
   "source": [
    "let exampleNodeA = Node.Init(\"A\")\n",
    "let exampleNodeB = Node.Init(\"B\")\n",
    "let exampleEdge = Edge.Init(\"A\",\"B\")"
   ]
  },
  {
   "cell_type": "markdown",
   "metadata": {},
   "source": [
    "You can create a styled node or edge like this but you can also style your nodes later on."
   ]
  },
  {
   "cell_type": "code",
   "execution_count": null,
   "metadata": {
    "dotnet_interactive": {
     "language": "fsharp"
    },
    "polyglot_notebook": {
     "kernelName": "fsharp"
    }
   },
   "outputs": [],
   "source": [
    "let exampleNodeC= Node.Init(key = \"C\", DisplayData =  DisplayData.Init(Label= \"C\",Size= 10,Color = \"#FF0000\", Hidden = false, ForceLabel = true))"
   ]
  },
  {
   "cell_type": "code",
   "execution_count": null,
   "metadata": {
    "dotnet_interactive": {
     "language": "fsharp"
    },
    "polyglot_notebook": {
     "kernelName": "fsharp"
    }
   },
   "outputs": [],
   "source": [
    "VisGraph.empty()\n",
    "|> VisGraph.withNodes([exampleNodeA;exampleNodeB;exampleNodeC])\n",
    "|> VisGraph.withEdge(exampleEdge)\n",
    "|> VisGraph.show()"
   ]
  }
 ],
 "metadata": {
  "kernelspec": {
   "display_name": ".NET (F#)",
   "language": "F#",
   "name": ".net-fsharp"
  },
  "polyglot_notebook": {
   "kernelInfo": {
    "defaultKernelName": "fsharp",
    "items": [
     {
      "aliases": [],
      "languageName": "fsharp",
      "name": "fsharp"
     }
    ]
   }
  }
 },
 "nbformat": 4,
 "nbformat_minor": 2
}
