{
 "cells": [
  {
   "cell_type": "markdown",
   "metadata": {},
   "source": [
    "# Render Settings"
   ]
  },
  {
   "cell_type": "code",
   "execution_count": null,
   "metadata": {
    "dotnet_interactive": {
     "language": "fsharp"
    },
    "polyglot_notebook": {
     "kernelName": "fsharp"
    }
   },
   "outputs": [],
   "source": [
    "//Sigma.NET and Sigma.NET.Interactive\n",
    "#i \"nuget: C:/Users/lukas/Documents/GitHub/Project/Sigma.NET/pkg\"\n",
    "#r \"nuget: Sigma.NET, 0.0.0-dev\"\n",
    "#r \"nuget: Sigma.NET.Interactive, 0.0.0-dev\"\n",
    "//Additional Librarys\n",
    "#r \"nuget: DynamicObj\"\n",
    "#r \"nuget: Newtonsoft.Json\"\n",
    "#r \"nuget: Giraffe.ViewEngine\"\n",
    "\n",
    "\n",
    "open Sigma.NET\n",
    "open Sigma.NET.Interactive\n",
    "\n",
    "open System\n",
    "open DynamicObj\n",
    "open Newtonsoft.Json\n",
    "open Giraffe.ViewEngine"
   ]
  },
  {
   "cell_type": "markdown",
   "metadata": {},
   "source": [
    "In this example, the nodes [1; 2; 3; 4; 5] are created and labeled with their respective numbers. The edges connect specific node pairs, such as (1, 3) and (2, 4). The graph is then constructed by adding the nodes and edges to an empty graph."
   ]
  },
  {
   "cell_type": "code",
   "execution_count": null,
   "metadata": {
    "dotnet_interactive": {
     "language": "fsharp"
    },
    "polyglot_notebook": {
     "kernelName": "fsharp"
    }
   },
   "outputs": [],
   "source": [
    "let renderExampleGraph = \n",
    "    let nodes = [1;2;3;4;5] |> List.map (fun x -> Node.Init(string x,DisplayData.Init(Label = string x, Size= 15))) //Initiation Nodes\n",
    "    let edges = [1,3;1,5;3,5;2,4] |> List.map (fun (x,y) -> Edge.Init(string x,string y)) //Initiating Edges\n",
    "    VisGraph.empty() //Creating a new instance of VisGraph\n",
    "    |> VisGraph. withNodes(nodes) //adding Nodes to the empty Visgraph\n",
    "    |> VisGraph.withEdges(edges) // Adding Edges to the Graph\n",
    "renderExampleGraph"
   ]
  },
  {
   "cell_type": "markdown",
   "metadata": {},
   "source": [
    "## Hide on Move\n",
    "You can hide edges and nodes when moving the graph by using the HideOnUse rendersettings."
   ]
  },
  {
   "cell_type": "code",
   "execution_count": null,
   "metadata": {
    "dotnet_interactive": {
     "language": "fsharp"
    },
    "polyglot_notebook": {
     "kernelName": "fsharp"
    }
   },
   "outputs": [],
   "source": [
    "//Render settings HideOnMOve\n",
    "renderExampleGraph\n",
    "|> VisGraph.withRenderer(Render.Settings.Init(HideEdgesOnMove = true, HideLabelsOnMove = true))"
   ]
  },
  {
   "cell_type": "code",
   "execution_count": null,
   "metadata": {
    "dotnet_interactive": {
     "language": "fsharp"
    },
    "polyglot_notebook": {
     "kernelName": "fsharp"
    }
   },
   "outputs": [],
   "source": [
    "//renderlabels\n",
    "renderExampleGraph\n",
    "|> VisGraph.withRenderer(Render.Settings.Init(RenderLabels = false))"
   ]
  },
  {
   "cell_type": "code",
   "execution_count": null,
   "metadata": {
    "dotnet_interactive": {
     "language": "fsharp"
    },
    "polyglot_notebook": {
     "kernelName": "fsharp"
    }
   },
   "outputs": [],
   "source": [
    "renderExampleGraph\n",
    "|> VisGraph.withRenderer(Render.Settings.Init(EnableEdgeClickEvents= true, EnableEdgeWheelEvents=true, EnableEdgeHoverEvents=true))"
   ]
  },
  {
   "cell_type": "code",
   "execution_count": null,
   "metadata": {
    "dotnet_interactive": {
     "language": "fsharp"
    },
    "polyglot_notebook": {
     "kernelName": "fsharp"
    }
   },
   "outputs": [],
   "source": [
    "renderExampleGraph\n",
    "|> VisGraph.withRenderer(Render.Settings.Init(DefaultNodeColor= \"#3fff00\", DefaultEdgeColor= \"#ffd700\"))"
   ]
  },
  {
   "cell_type": "code",
   "execution_count": null,
   "metadata": {
    "dotnet_interactive": {
     "language": "fsharp"
    },
    "polyglot_notebook": {
     "kernelName": "fsharp"
    }
   },
   "outputs": [],
   "source": [
    "renderExampleGraph\n",
    "|> VisGraph.withRenderer(Render.Settings.Init(LabelFont = \"Times New Roman\"))"
   ]
  },
  {
   "cell_type": "code",
   "execution_count": null,
   "metadata": {
    "dotnet_interactive": {
     "language": "fsharp"
    },
    "polyglot_notebook": {
     "kernelName": "fsharp"
    }
   },
   "outputs": [],
   "source": [
    "renderExampleGraph\n",
    "|> VisGraph.withRenderer(Render.Settings.Init(LabelFont = \"Times New Roman\"))"
   ]
  },
  {
   "cell_type": "code",
   "execution_count": null,
   "metadata": {
    "dotnet_interactive": {
     "language": "fsharp"
    },
    "polyglot_notebook": {
     "kernelName": "fsharp"
    }
   },
   "outputs": [],
   "source": [
    "VisGraph.empty()\n",
    "|> VisGraph.withNode(Node.Init(\"Node1\", DisplayData.Init(\"Label1\", 20, Color=\"#ff0000\")))\n",
    "|> VisGraph.withRenderer(Render.Settings.Init(LabelFont = \"Times New Roman\"))"
   ]
  },
  {
   "cell_type": "code",
   "execution_count": null,
   "metadata": {
    "dotnet_interactive": {
     "language": "fsharp"
    },
    "polyglot_notebook": {
     "kernelName": "fsharp"
    }
   },
   "outputs": [],
   "source": []
  },
  {
   "cell_type": "markdown",
   "metadata": {},
   "source": [
    "## Nodes\n",
    "### Default Node Color "
   ]
  },
  {
   "cell_type": "code",
   "execution_count": null,
   "metadata": {
    "dotnet_interactive": {
     "language": "fsharp"
    },
    "polyglot_notebook": {
     "kernelName": "fsharp"
    }
   },
   "outputs": [],
   "source": [
    "renderExampleGraph\n",
    "|> VisGraph.withRenderer(Render.Settings.Init(DefaultNodeColor= \"#3fff00\"))"
   ]
  },
  {
   "cell_type": "markdown",
   "metadata": {},
   "source": [
    "### Default Node Type  "
   ]
  },
  {
   "cell_type": "code",
   "execution_count": null,
   "metadata": {
    "dotnet_interactive": {
     "language": "fsharp"
    },
    "polyglot_notebook": {
     "kernelName": "fsharp"
    }
   },
   "outputs": [],
   "source": [
    "renderExampleGraph\n",
    "|> VisGraph.withRenderer(Render.Settings.Init(DefaultNodeType= StyleParam.NodeType.Circle))"
   ]
  },
  {
   "cell_type": "code",
   "execution_count": null,
   "metadata": {
    "dotnet_interactive": {
     "language": "fsharp"
    },
    "polyglot_notebook": {
     "kernelName": "fsharp"
    }
   },
   "outputs": [],
   "source": [
    "let renderExampleGraph = \n",
    "    let nodes = [1;2;3;4;5] |> List.map (fun x -> Node.Init(string x,DisplayData.Init(Label = string x, Size= 15))) //Initiation Nodes\n",
    "    let edges = [1,3;1,5;3,5;2,4] |> List.map (fun (x,y) -> Edge.Init(string x,string y)) //Initiating Edges\n",
    "    VisGraph.empty() //Creating a new instance of VisGraph\n",
    "    |> VisGraph. withNodes(nodes) //adding Nodes to the empty Visgraph\n",
    "    |> VisGraph.withEdges(edges) // Adding Edges to the Graph\n",
    "renderExampleGraph"
   ]
  },
  {
   "cell_type": "markdown",
   "metadata": {},
   "source": [
    "###  Node Reducer \n",
    "für Nodereducer will ich boch ein issue auf github erstrellen weil node reducer geht glaube ich nicht"
   ]
  },
  {
   "cell_type": "code",
   "execution_count": null,
   "metadata": {
    "dotnet_interactive": {
     "language": "fsharp"
    },
    "polyglot_notebook": {
     "kernelName": "fsharp"
    }
   },
   "outputs": [],
   "source": [
    "//this is how u can get a value (for example key) from a node\n",
    "let x = Node.Init(\"1\")\n",
    "Node.GetValue(x,\"key\")"
   ]
  },
  {
   "cell_type": "code",
   "execution_count": null,
   "metadata": {
    "dotnet_interactive": {
     "language": "fsharp"
    },
    "polyglot_notebook": {
     "kernelName": "fsharp"
    }
   },
   "outputs": [],
   "source": [
    "// let exampleNodeReducer =\n",
    "//     fun node ->\n",
    "//         if Node.GetValue(node,\"key\") = \"1\" then Some node\n",
    "//         else None\n",
    "renderExampleGraph\n",
    "|> VisGraph.withRenderer(Render.Settings.Init(NodeReducer = \"\"))\n",
    "renderExampleGraph"
   ]
  },
  {
   "cell_type": "code",
   "execution_count": null,
   "metadata": {
    "dotnet_interactive": {
     "language": "fsharp"
    },
    "polyglot_notebook": {
     "kernelName": "fsharp"
    }
   },
   "outputs": [],
   "source": [
    "renderExampleGraph |> VisGraph.withRenderer(Render.Settings.Init(DefaultEdgeColor=\"#ff0000\", DefaultNodeColor= \"#00ff00\", DefaultEdgeType= StyleParam.EdgeType.Arrow ))\n"
   ]
  }
 ],
 "metadata": {
  "kernelspec": {
   "display_name": ".NET (F#)",
   "language": "F#",
   "name": ".net-fsharp"
  },
  "polyglot_notebook": {
   "kernelInfo": {
    "defaultKernelName": "fsharp",
    "items": [
     {
      "aliases": [],
      "languageName": "fsharp",
      "name": "fsharp"
     }
    ]
   }
  }
 },
 "nbformat": 4,
 "nbformat_minor": 2
}
