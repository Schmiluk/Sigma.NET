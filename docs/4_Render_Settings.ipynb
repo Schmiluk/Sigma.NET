{
 "cells": [
  {
   "cell_type": "markdown",
   "metadata": {},
   "source": [
    "# Render Settings"
   ]
  },
  {
   "cell_type": "code",
   "execution_count": 1,
   "metadata": {
    "dotnet_interactive": {
     "language": "fsharp"
    },
    "polyglot_notebook": {
     "kernelName": "fsharp"
    }
   },
   "outputs": [
    {
     "data": {
      "text/html": [
       "<div><div><strong>Restore sources</strong><ul><li><span> C:/Users/lukas/Documents/GitHub/Project/Sigma.NET/pkg</span></li></ul></div><div></div><div><strong>Installed Packages</strong><ul><li><span>DynamicObj, 2.0.0</span></li><li><span>Giraffe.ViewEngine, 1.4.0</span></li><li><span>Newtonsoft.Json, 13.0.3</span></li><li><span>Sigma.NET, 0.0.0-dev</span></li><li><span>Sigma.NET.Interactive, 0.0.0-dev</span></li></ul></div></div>"
      ]
     },
     "metadata": {},
     "output_type": "display_data"
    },
    {
     "data": {
      "text/plain": [
       "Loading extensions from `C:\\Users\\lukas\\.nuget\\packages\\sigma.net.interactive\\0.0.0-dev\\lib\\net8.0\\Sigma.NET.Interactive.dll`"
      ]
     },
     "metadata": {},
     "output_type": "display_data"
    }
   ],
   "source": [
    "//Sigma.NET and Sigma.NET.Interactive\n",
    "#i \"nuget: C:/Users/lukas/Documents/GitHub/Project/Sigma.NET/pkg\"\n",
    "#r \"nuget: Sigma.NET, 0.0.0-dev\"\n",
    "#r \"nuget: Sigma.NET.Interactive, 0.0.0-dev\"\n",
    "//Additional Librarys\n",
    "#r \"nuget: DynamicObj\"\n",
    "#r \"nuget: Newtonsoft.Json\"\n",
    "#r \"nuget: Giraffe.ViewEngine\"\n",
    "\n",
    "\n",
    "open Sigma.NET\n",
    "open Sigma.NET.Interactive\n",
    "\n",
    "open System\n",
    "open DynamicObj\n",
    "open Newtonsoft.Json\n",
    "open Giraffe.ViewEngine"
   ]
  },
  {
   "cell_type": "code",
   "execution_count": 14,
   "metadata": {
    "dotnet_interactive": {
     "language": "fsharp"
    },
    "polyglot_notebook": {
     "kernelName": "fsharp"
    }
   },
   "outputs": [
    {
     "data": {
      "text/html": [
       "<div id=\"graph\"><div id=\"ef3d933ce11\" style=\"width: 100%; height: 900px\">&nbsp<!-- Sigma.NET graph will be drawn inside this DIV --></div><script type=\"text/javascript\">\r\n",
       "\r\n",
       "    require([\r\n",
       "        'https://cdnjs.cloudflare.com/ajax/libs/graphology/0.25.4/graphology.umd.min.js',\r\n",
       "        'https://cdnjs.cloudflare.com/ajax/libs/sigma.js/2.4.0/sigma.min.js',\r\n",
       "        'https://cdn.jsdelivr.net/npm/graphology-library@0.8.0/dist/graphology-library.min.js',\r\n",
       "    ], (graphology,_,graphologyLibrary)=>{          \r\n",
       "            const container = document.getElementById(\"ef3d933ce11\");\r\n",
       "            const graph = new graphology.Graph();\r\n",
       "            graph.import({\"nodes\":[{\"key\":\"1\",\"attributes\":{\"label\":\"1\",\"size\":15}},{\"key\":\"2\",\"attributes\":{\"label\":\"2\",\"size\":15}},{\"key\":\"3\",\"attributes\":{\"label\":\"3\",\"size\":15}},{\"key\":\"4\",\"attributes\":{\"label\":\"4\",\"size\":15}},{\"key\":\"5\",\"attributes\":{\"label\":\"5\",\"size\":15}}],\"edges\":[{\"source\":\"1\",\"target\":\"3\"},{\"source\":\"1\",\"target\":\"5\"},{\"source\":\"3\",\"target\":\"5\"},{\"source\":\"2\",\"target\":\"4\"}]});\r\n",
       "            graphologyLibrary.layout.random.assign(graph, {});  \r\n",
       "            const renderer = new Sigma(graph, container,{});\r\n",
       "                    \r\n",
       "        });\r\n",
       "    </script></div>"
      ]
     },
     "metadata": {},
     "output_type": "display_data"
    }
   ],
   "source": [
    "let renderExampleGraph = \n",
    "    let nodes = [1;2;3;4;5] |> List.map (fun x -> Node.Init(string x,DisplayData.Init(Label = string x, Size= 15)))\n",
    "    let edges = [1,3;1,5;3,5;2,4] |> List.map (fun (x,y) -> Edge.Init(string x,string y))\n",
    "    VisGraph.empty()\n",
    "    |> VisGraph. withNodes(nodes)\n",
    "    |> VisGraph.withEdges(edges)\n",
    "renderExampleGraph"
   ]
  },
  {
   "cell_type": "code",
   "execution_count": 20,
   "metadata": {
    "dotnet_interactive": {
     "language": "fsharp"
    },
    "polyglot_notebook": {
     "kernelName": "fsharp"
    }
   },
   "outputs": [
    {
     "data": {
      "text/html": [
       "<div id=\"graph\"><div id=\"efd80ba6c5d\" style=\"width: 100%; height: 900px\">&nbsp<!-- Sigma.NET graph will be drawn inside this DIV --></div><script type=\"text/javascript\">\r\n",
       "\r\n",
       "    require([\r\n",
       "        'https://cdnjs.cloudflare.com/ajax/libs/graphology/0.25.4/graphology.umd.min.js',\r\n",
       "        'https://cdnjs.cloudflare.com/ajax/libs/sigma.js/2.4.0/sigma.min.js',\r\n",
       "        'https://cdn.jsdelivr.net/npm/graphology-library@0.8.0/dist/graphology-library.min.js',\r\n",
       "    ], (graphology,_,graphologyLibrary)=>{          \r\n",
       "            const container = document.getElementById(\"efd80ba6c5d\");\r\n",
       "            const graph = new graphology.Graph();\r\n",
       "            graph.import({\"nodes\":[{\"key\":\"1\",\"attributes\":{\"label\":\"1\",\"size\":15}},{\"key\":\"2\",\"attributes\":{\"label\":\"2\",\"size\":15}},{\"key\":\"3\",\"attributes\":{\"label\":\"3\",\"size\":15}},{\"key\":\"4\",\"attributes\":{\"label\":\"4\",\"size\":15}},{\"key\":\"5\",\"attributes\":{\"label\":\"5\",\"size\":15}}],\"edges\":[{\"source\":\"1\",\"target\":\"3\"},{\"source\":\"1\",\"target\":\"5\"},{\"source\":\"3\",\"target\":\"5\"},{\"source\":\"2\",\"target\":\"4\"}]});\r\n",
       "            graphologyLibrary.layout.random.assign(graph, {});  \r\n",
       "            const renderer = new Sigma(graph, container,{\"hideEdgesOnMove\":true,\"hideLabelsOnMove\":true});\r\n",
       "                    \r\n",
       "        });\r\n",
       "    </script></div>"
      ]
     },
     "metadata": {},
     "output_type": "display_data"
    }
   ],
   "source": [
    "renderExampleGraph\n",
    "|> VisGraph.withRenderer(Render.Settings.Init(HideEdgesOnMove = true, HideLabelsOnMove = true))"
   ]
  },
  {
   "cell_type": "code",
   "execution_count": 21,
   "metadata": {
    "dotnet_interactive": {
     "language": "fsharp"
    },
    "polyglot_notebook": {
     "kernelName": "fsharp"
    }
   },
   "outputs": [
    {
     "data": {
      "text/html": [
       "<div id=\"graph\"><div id=\"e37dca4ba2f\" style=\"width: 100%; height: 900px\">&nbsp<!-- Sigma.NET graph will be drawn inside this DIV --></div><script type=\"text/javascript\">\r\n",
       "\r\n",
       "    require([\r\n",
       "        'https://cdnjs.cloudflare.com/ajax/libs/graphology/0.25.4/graphology.umd.min.js',\r\n",
       "        'https://cdnjs.cloudflare.com/ajax/libs/sigma.js/2.4.0/sigma.min.js',\r\n",
       "        'https://cdn.jsdelivr.net/npm/graphology-library@0.8.0/dist/graphology-library.min.js',\r\n",
       "    ], (graphology,_,graphologyLibrary)=>{          \r\n",
       "            const container = document.getElementById(\"e37dca4ba2f\");\r\n",
       "            const graph = new graphology.Graph();\r\n",
       "            graph.import({\"nodes\":[{\"key\":\"1\",\"attributes\":{\"label\":\"1\",\"size\":15}},{\"key\":\"2\",\"attributes\":{\"label\":\"2\",\"size\":15}},{\"key\":\"3\",\"attributes\":{\"label\":\"3\",\"size\":15}},{\"key\":\"4\",\"attributes\":{\"label\":\"4\",\"size\":15}},{\"key\":\"5\",\"attributes\":{\"label\":\"5\",\"size\":15}}],\"edges\":[{\"source\":\"1\",\"target\":\"3\"},{\"source\":\"1\",\"target\":\"5\"},{\"source\":\"3\",\"target\":\"5\"},{\"source\":\"2\",\"target\":\"4\"}]});\r\n",
       "            graphologyLibrary.layout.random.assign(graph, {});  \r\n",
       "            const renderer = new Sigma(graph, container,{\"renderLabels\":false});\r\n",
       "                    \r\n",
       "        });\r\n",
       "    </script></div>"
      ]
     },
     "metadata": {},
     "output_type": "display_data"
    }
   ],
   "source": [
    "renderExampleGraph\n",
    "|> VisGraph.withRenderer(Render.Settings.Init(RenderLabels = false))"
   ]
  },
  {
   "cell_type": "code",
   "execution_count": 23,
   "metadata": {
    "dotnet_interactive": {
     "language": "fsharp"
    },
    "polyglot_notebook": {
     "kernelName": "fsharp"
    }
   },
   "outputs": [
    {
     "data": {
      "text/html": [
       "<div id=\"graph\"><div id=\"edc0f46559e\" style=\"width: 100%; height: 900px\">&nbsp<!-- Sigma.NET graph will be drawn inside this DIV --></div><script type=\"text/javascript\">\r\n",
       "\r\n",
       "    require([\r\n",
       "        'https://cdnjs.cloudflare.com/ajax/libs/graphology/0.25.4/graphology.umd.min.js',\r\n",
       "        'https://cdnjs.cloudflare.com/ajax/libs/sigma.js/2.4.0/sigma.min.js',\r\n",
       "        'https://cdn.jsdelivr.net/npm/graphology-library@0.8.0/dist/graphology-library.min.js',\r\n",
       "    ], (graphology,_,graphologyLibrary)=>{          \r\n",
       "            const container = document.getElementById(\"edc0f46559e\");\r\n",
       "            const graph = new graphology.Graph();\r\n",
       "            graph.import({\"nodes\":[{\"key\":\"1\",\"attributes\":{\"label\":\"1\",\"size\":15,\"forceLabel\":true}},{\"key\":\"2\",\"attributes\":{\"label\":\"2\",\"size\":15,\"forceLabel\":true}}],\"edges\":[{\"source\":\"1\",\"target\":\"2\",\"key\":\"A\",\"attributes\":{\"label\":\"A\",\"size\":15}}]});\r\n",
       "            graphologyLibrary.layout.random.assign(graph, {});  \r\n",
       "            const renderer = new Sigma(graph, container,{\"enableEdgeClickEvents\":true});\r\n",
       "                    \r\n",
       "        });\r\n",
       "    </script></div>"
      ]
     },
     "metadata": {},
     "output_type": "display_data"
    }
   ],
   "source": [
    "VisGraph.empty()\n",
    "|> VisGraph.withNodes([1;2]|> List.map (fun x -> Node.Init(string x, DisplayData.Init(string x, 15, ForceLabel = true))))\n",
    "|> VisGraph.withEdge(Edge.Init(\"1\", \"2\", \"A\", DisplayData.Init(\"A\", 15) ))\n",
    "|> VisGraph.withRenderer(Render.Settings.Init(EnableEdgeClickEvents = true))"
   ]
  },
  {
   "cell_type": "code",
   "execution_count": 26,
   "metadata": {
    "dotnet_interactive": {
     "language": "fsharp"
    },
    "polyglot_notebook": {
     "kernelName": "fsharp"
    }
   },
   "outputs": [
    {
     "data": {
      "text/html": [
       "<div id=\"graph\"><div id=\"ef398e93e45\" style=\"width: 100%; height: 900px\">&nbsp<!-- Sigma.NET graph will be drawn inside this DIV --></div><script type=\"text/javascript\">\r\n",
       "\r\n",
       "    require([\r\n",
       "        'https://cdnjs.cloudflare.com/ajax/libs/graphology/0.25.4/graphology.umd.min.js',\r\n",
       "        'https://cdnjs.cloudflare.com/ajax/libs/sigma.js/2.4.0/sigma.min.js',\r\n",
       "        'https://cdn.jsdelivr.net/npm/graphology-library@0.8.0/dist/graphology-library.min.js',\r\n",
       "    ], (graphology,_,graphologyLibrary)=>{          \r\n",
       "            const container = document.getElementById(\"ef398e93e45\");\r\n",
       "            const graph = new graphology.Graph();\r\n",
       "            graph.import({\"nodes\":[{\"key\":\"1\",\"attributes\":{\"label\":\"1\",\"size\":15}},{\"key\":\"2\",\"attributes\":{\"label\":\"2\",\"size\":15}},{\"key\":\"3\",\"attributes\":{\"label\":\"3\",\"size\":15}},{\"key\":\"4\",\"attributes\":{\"label\":\"4\",\"size\":15}},{\"key\":\"5\",\"attributes\":{\"label\":\"5\",\"size\":15}}],\"edges\":[{\"source\":\"1\",\"target\":\"3\"},{\"source\":\"1\",\"target\":\"5\"},{\"source\":\"3\",\"target\":\"5\"},{\"source\":\"2\",\"target\":\"4\"}]});\r\n",
       "            graphologyLibrary.layout.random.assign(graph, {});  \r\n",
       "            const renderer = new Sigma(graph, container,{\"enableEdgeClickEvents\":true});\r\n",
       "                    \r\n",
       "        });\r\n",
       "    </script></div>"
      ]
     },
     "metadata": {},
     "output_type": "display_data"
    }
   ],
   "source": [
    "renderExampleGraph\n",
    "|> VisGraph.withRenderer(Render.Settings.Init(EnableEdgeClickEvents= true))"
   ]
  }
 ],
 "metadata": {
  "kernelspec": {
   "display_name": ".NET (F#)",
   "language": "F#",
   "name": ".net-fsharp"
  },
  "polyglot_notebook": {
   "kernelInfo": {
    "defaultKernelName": "fsharp",
    "items": [
     {
      "aliases": [],
      "languageName": "fsharp",
      "name": "fsharp"
     }
    ]
   }
  }
 },
 "nbformat": 4,
 "nbformat_minor": 2
}
