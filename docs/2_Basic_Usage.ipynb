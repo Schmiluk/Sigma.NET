{
 "cells": [
  {
   "cell_type": "markdown",
   "metadata": {},
   "source": [
    "# Basic Usage\n",
    "## Installation using NuGet"
   ]
  },
  {
   "cell_type": "code",
   "execution_count": null,
   "metadata": {
    "dotnet_interactive": {
     "language": "fsharp"
    },
    "polyglot_notebook": {
     "kernelName": "fsharp"
    }
   },
   "outputs": [],
   "source": [
    "//Sigma.NET and Sigma.NET.Interactive\n",
    "#i \"nuget: C:/Users/lukas/Documents/GitHub/Project/Sigma.NET/pkg\"\n",
    "#r \"nuget: Sigma.NET, 0.0.0-dev\"\n",
    "#r \"nuget: Sigma.NET.Interactive, 0.0.0-dev\"\n",
    "//Additional Librarys\n",
    "#r \"nuget: DynamicObj\"\n",
    "#r \"nuget: Newtonsoft.Json\"\n",
    "#r \"nuget: Giraffe.ViewEngine\"\n",
    "\n",
    "\n",
    "open Sigma.NET\n",
    "open Sigma.NET.Interactive\n",
    "\n",
    "open System\n",
    "open DynamicObj\n",
    "open Newtonsoft.Json\n",
    "open Giraffe.ViewEngine"
   ]
  },
  {
   "cell_type": "markdown",
   "metadata": {},
   "source": [
    "## Creating a simple Graph :"
   ]
  },
  {
   "cell_type": "code",
   "execution_count": null,
   "metadata": {
    "dotnet_interactive": {
     "language": "fsharp"
    },
    "polyglot_notebook": {
     "kernelName": "fsharp"
    }
   },
   "outputs": [],
   "source": [
    "// Initiate a new Graph\n",
    "let newGraph = VisGraph.empty()\n",
    "\n",
    "// Initiate new Nodes \n",
    "let node1 = Node.Init(\"1\")\n",
    "let node2 = Node.Init(\"2\")\n",
    "\n",
    "//Initiate new Edge similar to how you initiate new Nodes\n",
    "let edge1 = Edge.Init(\"1\",\"2\")\n",
    "\n",
    "//Add Nodes and Edges to the Graph \n",
    "newGraph\n",
    "|> VisGraph.withNodes([node1;node2])\n",
    "|> VisGraph.withEdge(edge1)"
   ]
  },
  {
   "cell_type": "markdown",
   "metadata": {},
   "source": [
    "![image info](img\\basicUsageGraph1.png)"
   ]
  },
  {
   "cell_type": "markdown",
   "metadata": {},
   "source": [
    "## Customizing nodes and edges:\n",
    "### Basic Customization"
   ]
  },
  {
   "cell_type": "code",
   "execution_count": null,
   "metadata": {
    "dotnet_interactive": {
     "language": "fsharp"
    },
    "polyglot_notebook": {
     "kernelName": "fsharp"
    }
   },
   "outputs": [],
   "source": [
    "//create Nodes with DisplayData\n",
    "let styledNode1 = Node.Init(key=\"s1\" , DisplayData = DisplayData.Init(Size = 10 , Label = \"Node 1\"))\n",
    "let styledNode2 = Node.Init(key = \"s2\" , DisplayData = DisplayData.Init(Size = 10 , Label = \"Node 2\"))\n",
    "\n",
    "//create edges with DisplayData\n",
    "let styledEdge = Edge.Init(\"s1\" , \"s2\" , DisplayData = DisplayData.Init(Size = 10))\n",
    "\n",
    "VisGraph.empty()\n",
    "|> VisGraph.withNodes([styledNode1 ; styledNode2])\n",
    "|> VisGraph.withEdge(styledEdge)"
   ]
  },
  {
   "cell_type": "markdown",
   "metadata": {},
   "source": [
    "![image info](img\\basicUsageGraph2.png)"
   ]
  },
  {
   "cell_type": "markdown",
   "metadata": {},
   "source": [
    "### Color options\n",
    "You can adjust the colors of nodes and edges using html-color-codes. https://html-color.codes/"
   ]
  },
  {
   "cell_type": "code",
   "execution_count": null,
   "metadata": {
    "dotnet_interactive": {
     "language": "fsharp"
    },
    "polyglot_notebook": {
     "kernelName": "fsharp"
    }
   },
   "outputs": [],
   "source": [
    "// Create colored Nodes\n",
    "let redNode = Node.Init(\"r\" , DisplayData.Init(Size = 10 , Color = \"#ff0000\"))\n",
    "let greenNode = Node.Init(\"g\" , DisplayData.Init(Size = 10 , Color = \"#008000\"))\n",
    "\n",
    "//Create colored Edge\n",
    "let yellowEdge = Edge.Init(\"r\" , \"g\" , \"y\" , DisplayData.Init(Size = 10 , Color = \"#ffff00\"))\n",
    "\n",
    "VisGraph.empty()\n",
    "|> VisGraph.withNodes([redNode ; greenNode])\n",
    "|> VisGraph.withEdge(yellowEdge)"
   ]
  },
  {
   "cell_type": "markdown",
   "metadata": {},
   "source": [
    "![image info](img\\basicUsageGraph3.png)"
   ]
  },
  {
   "cell_type": "markdown",
   "metadata": {},
   "source": [
    "### Visualization\n",
    "\n",
    "To view the graph, you can either use the `Sigma.Net.Interactive` library or display the graph as an HTML file."
   ]
  },
  {
   "cell_type": "code",
   "execution_count": null,
   "metadata": {
    "dotnet_interactive": {
     "language": "fsharp"
    },
    "polyglot_notebook": {
     "kernelName": "fsharp"
    }
   },
   "outputs": [],
   "source": [
    "let exampleGraph =\n",
    "    VisGraph.empty()\n",
    "    |> VisGraph.withNodes([redNode ; greenNode])\n",
    "    |> VisGraph.withEdge(yellowEdge)\n",
    "\n",
    "exampleGraph\n",
    "|> VisGraph.show()"
   ]
  }
 ],
 "metadata": {
  "kernelspec": {
   "display_name": ".NET (F#)",
   "language": "F#",
   "name": ".net-fsharp"
  },
  "polyglot_notebook": {
   "kernelInfo": {
    "defaultKernelName": "fsharp",
    "items": [
     {
      "aliases": [],
      "languageName": "fsharp",
      "name": "fsharp"
     }
    ]
   }
  }
 },
 "nbformat": 4,
 "nbformat_minor": 2
}
