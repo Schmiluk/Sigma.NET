{
 "cells": [
  {
   "cell_type": "markdown",
   "metadata": {},
   "source": [
    "# Basic Usage\n",
    "## Installation\n",
    "### Using NuGet"
   ]
  },
  {
   "cell_type": "code",
   "execution_count": null,
   "metadata": {
    "dotnet_interactive": {
     "language": "fsharp"
    },
    "polyglot_notebook": {
     "kernelName": "fsharp"
    }
   },
   "outputs": [
    {
     "data": {
      "text/html": [
       "<div><div><strong>Restore sources</strong><ul><li><span> C:/Users/lukas/Documents/GitHub/Project/Sigma.NET/pkg</span></li></ul></div><div></div><div><strong>Installed Packages</strong><ul><li><span>DynamicObj, 2.0.0</span></li><li><span>Giraffe.ViewEngine, 1.4.0</span></li><li><span>Newtonsoft.Json, 13.0.3</span></li><li><span>Sigma.NET, 0.0.0-dev</span></li><li><span>Sigma.NET.Interactive, 0.0.0-dev</span></li></ul></div></div>"
      ]
     },
     "metadata": {},
     "output_type": "display_data"
    },
    {
     "data": {
      "text/plain": [
       "Loading extensions from `C:\\Users\\lukas\\.nuget\\packages\\sigma.net.interactive\\0.0.0-dev\\lib\\net8.0\\Sigma.NET.Interactive.dll`"
      ]
     },
     "metadata": {},
     "output_type": "display_data"
    }
   ],
   "source": [
    "//Sigma.NET and Sigma.NET.Interactive\n",
    "#i \"nuget: C:/Users/lukas/Documents/GitHub/Project/Sigma.NET/pkg\"\n",
    "#r \"nuget: Sigma.NET, 0.0.0-dev\"\n",
    "#r \"nuget: Sigma.NET.Interactive, 0.0.0-dev\"\n",
    "//Additional Librarys\n",
    "#r \"nuget: DynamicObj\"\n",
    "#r \"nuget: Newtonsoft.Json\"\n",
    "#r \"nuget: Giraffe.ViewEngine\"\n",
    "\n",
    "\n",
    "open Sigma.NET\n",
    "open Sigma.NET.Interactive\n",
    "\n",
    "open System\n",
    "open DynamicObj\n",
    "open Newtonsoft.Json\n",
    "open Giraffe.ViewEngine"
   ]
  },
  {
   "cell_type": "markdown",
   "metadata": {},
   "source": [
    "## Creating a simple Graph :"
   ]
  },
  {
   "cell_type": "code",
   "execution_count": null,
   "metadata": {
    "dotnet_interactive": {
     "language": "fsharp"
    },
    "polyglot_notebook": {
     "kernelName": "fsharp"
    }
   },
   "outputs": [
    {
     "data": {
      "text/html": [
       "<div id=\"graph\"><div id=\"e3ad2e2e91e\" style=\"width: 100%; height: 900px\">&nbsp<!-- Sigma.NET graph will be drawn inside this DIV --></div><script type=\"text/javascript\">\r\n",
       "\r\n",
       "    require([\r\n",
       "        'https://cdnjs.cloudflare.com/ajax/libs/graphology/0.25.4/graphology.umd.min.js',\r\n",
       "        'https://cdnjs.cloudflare.com/ajax/libs/sigma.js/2.4.0/sigma.min.js',\r\n",
       "        'https://cdn.jsdelivr.net/npm/graphology-library@0.8.0/dist/graphology-library.min.js',\r\n",
       "    ], (graphology,_,graphologyLibrary)=>{          \r\n",
       "            const container = document.getElementById(\"e3ad2e2e91e\");\r\n",
       "            const graph = new graphology.Graph();\r\n",
       "            graph.import({\"nodes\":[{\"key\":\"1\",\"attributes\":{\"label\":\"Node 1\",\"size\":10}},{\"key\":\"2\",\"attributes\":{\"label\":\"Node 2\",\"size\":10}}],\"edges\":[{\"source\":\"1\",\"target\":\"2\",\"attributes\":{\"size\":10}}]});\r\n",
       "            graphologyLibrary.layout.random.assign(graph, {});  \r\n",
       "            const renderer = new Sigma(graph, container,{});\r\n",
       "                    \r\n",
       "        });\r\n",
       "    </script></div>"
      ]
     },
     "metadata": {},
     "output_type": "display_data"
    }
   ],
   "source": [
    "// Initiate a new Graph\n",
    "let newGraph = VisGraph.empty()\n",
    "\n",
    "// Initiate new Nodes, using the DisplayData Parameter to adjust them to your liking. \n",
    "let node1 = Node.Init(key = \"1\", DisplayData = DisplayData.Init(Label = \"Node 1\" , Size = 10))\n",
    "let node2 = Node.Init(key= \"2\", DisplayData = DisplayData.Init(Label = \"Node 2\" , Size = 10))\n",
    "\n",
    "//Initiate new Edge similar to how you initiate new Nodes\n",
    "let edge1 = Edge.Init(source = \"1\" , target = \"2\" , DisplayData = DisplayData.Init(Size = 10))\n",
    "\n",
    "//Add Nodes and Edges to the Graph \n",
    "newGraph\n",
    "|> VisGraph.withNodes([node1;node2])\n",
    "|> VisGraph.withEdge(edge1)"
   ]
  }
 ],
 "metadata": {
  "kernelspec": {
   "display_name": ".NET (F#)",
   "language": "F#",
   "name": ".net-fsharp"
  },
  "polyglot_notebook": {
   "kernelInfo": {
    "defaultKernelName": "fsharp",
    "items": [
     {
      "aliases": [],
      "languageName": "fsharp",
      "name": "fsharp"
     }
    ]
   }
  }
 },
 "nbformat": 4,
 "nbformat_minor": 2
}
