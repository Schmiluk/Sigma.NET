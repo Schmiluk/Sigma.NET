{
 "cells": [
  {
   "cell_type": "markdown",
   "metadata": {},
   "source": [
    "# Basic Usage\n",
    "## Installation\n",
    "### Using NuGet"
   ]
  },
  {
   "cell_type": "code",
   "execution_count": 1,
   "metadata": {
    "dotnet_interactive": {
     "language": "fsharp"
    },
    "polyglot_notebook": {
     "kernelName": "fsharp"
    }
   },
   "outputs": [
    {
     "data": {
      "text/html": [
       "<div><div><strong>Restore sources</strong><ul><li><span> C:/Users/lukas/Documents/GitHub/Project/Sigma.NET/pkg</span></li></ul></div><div></div><div><strong>Installed Packages</strong><ul><li><span>DynamicObj, 2.0.0</span></li><li><span>Giraffe.ViewEngine, 1.4.0</span></li><li><span>Newtonsoft.Json, 13.0.3</span></li><li><span>Sigma.NET, 0.0.0-dev</span></li><li><span>Sigma.NET.Interactive, 0.0.0-dev</span></li></ul></div></div>"
      ]
     },
     "metadata": {},
     "output_type": "display_data"
    },
    {
     "data": {
      "text/plain": [
       "Loading extensions from `C:\\Users\\lukas\\.nuget\\packages\\sigma.net.interactive\\0.0.0-dev\\lib\\net8.0\\Sigma.NET.Interactive.dll`"
      ]
     },
     "metadata": {},
     "output_type": "display_data"
    }
   ],
   "source": [
    "//Sigma.NET and Sigma.NET.Interactive\n",
    "#i \"nuget: C:/Users/lukas/Documents/GitHub/Project/Sigma.NET/pkg\"\n",
    "#r \"nuget: Sigma.NET, 0.0.0-dev\"\n",
    "#r \"nuget: Sigma.NET.Interactive, 0.0.0-dev\"\n",
    "//Additional Librarys\n",
    "#r \"nuget: DynamicObj\"\n",
    "#r \"nuget: Newtonsoft.Json\"\n",
    "#r \"nuget: Giraffe.ViewEngine\"\n",
    "\n",
    "\n",
    "open Sigma.NET\n",
    "open Sigma.NET.Interactive\n",
    "\n",
    "open System\n",
    "open DynamicObj\n",
    "open Newtonsoft.Json\n",
    "open Giraffe.ViewEngine"
   ]
  },
  {
   "cell_type": "markdown",
   "metadata": {},
   "source": [
    "## Creating a simple Graph :"
   ]
  },
  {
   "cell_type": "code",
   "execution_count": 2,
   "metadata": {
    "dotnet_interactive": {
     "language": "fsharp"
    },
    "polyglot_notebook": {
     "kernelName": "fsharp"
    }
   },
   "outputs": [
    {
     "data": {
      "text/html": [
       "<div id=\"graph\"><div id=\"eae55b32c48\" style=\"width: 100%; height: 900px\">&nbsp<!-- Sigma.NET graph will be drawn inside this DIV --></div><script type=\"text/javascript\">\r\n",
       "\r\n",
       "    require([\r\n",
       "        'https://cdnjs.cloudflare.com/ajax/libs/graphology/0.25.4/graphology.umd.min.js',\r\n",
       "        'https://cdnjs.cloudflare.com/ajax/libs/sigma.js/2.4.0/sigma.min.js',\r\n",
       "        'https://cdn.jsdelivr.net/npm/graphology-library@0.8.0/dist/graphology-library.min.js',\r\n",
       "    ], (graphology,_,graphologyLibrary)=>{          \r\n",
       "            const container = document.getElementById(\"eae55b32c48\");\r\n",
       "            const graph = new graphology.Graph();\r\n",
       "            graph.import({\"nodes\":[{\"key\":\"1\"},{\"key\":\"2\"}],\"edges\":[{\"source\":\"1\",\"target\":\"2\"}]});\r\n",
       "            graphologyLibrary.layout.random.assign(graph, {});  \r\n",
       "            const renderer = new Sigma(graph, container,{});\r\n",
       "                    \r\n",
       "        });\r\n",
       "    </script></div>"
      ]
     },
     "metadata": {},
     "output_type": "display_data"
    }
   ],
   "source": [
    "// Initiate a new Graph\n",
    "let newGraph = VisGraph.empty()\n",
    "\n",
    "// Initiate new Nodes \n",
    "let node1 = Node.Init(\"1\")\n",
    "let node2 = Node.Init(\"2\")\n",
    "\n",
    "//Initiate new Edge similar to how you initiate new Nodes\n",
    "let edge1 = Edge.Init(\"1\",\"2\")\n",
    "\n",
    "//Add Nodes and Edges to the Graph \n",
    "newGraph\n",
    "|> VisGraph.withNodes([node1;node2])\n",
    "|> VisGraph.withEdge(edge1)"
   ]
  },
  {
   "cell_type": "markdown",
   "metadata": {},
   "source": [
    "## Customizing nodes and edges:\n",
    "### Basic Customization"
   ]
  },
  {
   "cell_type": "code",
   "execution_count": 5,
   "metadata": {
    "dotnet_interactive": {
     "language": "fsharp"
    },
    "polyglot_notebook": {
     "kernelName": "fsharp"
    }
   },
   "outputs": [
    {
     "data": {
      "text/html": [
       "<div id=\"graph\"><div id=\"e27b4636a39\" style=\"width: 100%; height: 900px\">&nbsp<!-- Sigma.NET graph will be drawn inside this DIV --></div><script type=\"text/javascript\">\r\n",
       "\r\n",
       "    require([\r\n",
       "        'https://cdnjs.cloudflare.com/ajax/libs/graphology/0.25.4/graphology.umd.min.js',\r\n",
       "        'https://cdnjs.cloudflare.com/ajax/libs/sigma.js/2.4.0/sigma.min.js',\r\n",
       "        'https://cdn.jsdelivr.net/npm/graphology-library@0.8.0/dist/graphology-library.min.js',\r\n",
       "    ], (graphology,_,graphologyLibrary)=>{          \r\n",
       "            const container = document.getElementById(\"e27b4636a39\");\r\n",
       "            const graph = new graphology.Graph();\r\n",
       "            graph.import({\"nodes\":[{\"key\":\"s1\",\"attributes\":{\"label\":\"Node 1\",\"size\":10}},{\"key\":\"s2\",\"attributes\":{\"label\":\"Node 2\",\"size\":10}}],\"edges\":[{\"source\":\"s1\",\"target\":\"s2\",\"attributes\":{\"size\":10}}]});\r\n",
       "            graphologyLibrary.layout.random.assign(graph, {});  \r\n",
       "            const renderer = new Sigma(graph, container,{});\r\n",
       "                    \r\n",
       "        });\r\n",
       "    </script></div>"
      ]
     },
     "metadata": {},
     "output_type": "display_data"
    }
   ],
   "source": [
    "//create Nodes with DisplayData\n",
    "let styledNode1 = Node.Init(key=\"s1\" , DisplayData = DisplayData.Init(Size = 10 , Label = \"Node 1\"))\n",
    "let styledNode2 = Node.Init(key = \"s2\" , DisplayData = DisplayData.Init(Size = 10 , Label = \"Node 2\"))\n",
    "\n",
    "//create edges with DisplayData\n",
    "let styledEdge = Edge.Init(\"s1\" , \"s2\" , DisplayData = DisplayData.Init(Size = 10))\n",
    "\n",
    "VisGraph.empty()\n",
    "|> VisGraph.withNodes([styledNode1 ; styledNode2])\n",
    "|> VisGraph.withEdge(styledEdge)"
   ]
  },
  {
   "cell_type": "markdown",
   "metadata": {},
   "source": [
    "### Color options\n",
    "You can adjust the colors of nodes and edges using html-color-codes. https://html-color.codes/"
   ]
  },
  {
   "cell_type": "code",
   "execution_count": 7,
   "metadata": {
    "dotnet_interactive": {
     "language": "fsharp"
    },
    "polyglot_notebook": {
     "kernelName": "fsharp"
    }
   },
   "outputs": [
    {
     "data": {
      "text/html": [
       "<div id=\"graph\"><div id=\"e773e5d4ca3\" style=\"width: 100%; height: 900px\">&nbsp<!-- Sigma.NET graph will be drawn inside this DIV --></div><script type=\"text/javascript\">\r\n",
       "\r\n",
       "    require([\r\n",
       "        'https://cdnjs.cloudflare.com/ajax/libs/graphology/0.25.4/graphology.umd.min.js',\r\n",
       "        'https://cdnjs.cloudflare.com/ajax/libs/sigma.js/2.4.0/sigma.min.js',\r\n",
       "        'https://cdn.jsdelivr.net/npm/graphology-library@0.8.0/dist/graphology-library.min.js',\r\n",
       "    ], (graphology,_,graphologyLibrary)=>{          \r\n",
       "            const container = document.getElementById(\"e773e5d4ca3\");\r\n",
       "            const graph = new graphology.Graph();\r\n",
       "            graph.import({\"nodes\":[{\"key\":\"r\",\"attributes\":{\"size\":10,\"color\":\"#ff0000\"}},{\"key\":\"g\",\"attributes\":{\"size\":10,\"color\":\"#008000\"}}],\"edges\":[{\"source\":\"r\",\"target\":\"g\",\"key\":\"y\",\"attributes\":{\"size\":10,\"color\":\"#ffff00\"}}]});\r\n",
       "            graphologyLibrary.layout.random.assign(graph, {});  \r\n",
       "            const renderer = new Sigma(graph, container,{});\r\n",
       "                    \r\n",
       "        });\r\n",
       "    </script></div>"
      ]
     },
     "metadata": {},
     "output_type": "display_data"
    }
   ],
   "source": [
    "// Create colored Nodes\n",
    "let redNode = Node.Init(\"r\" , DisplayData.Init(Size = 10 , Color = \"#ff0000\"))\n",
    "let greenNode = Node.Init(\"g\" , DisplayData.Init(Size = 10 , Color = \"#008000\"))\n",
    "\n",
    "//Create colored Edge\n",
    "let yellowEdge = Edge.Init(\"r\" , \"g\" , \"y\" , DisplayData.Init(Size = 10 , Color = \"#ffff00\"))\n",
    "\n",
    "VisGraph.empty()\n",
    "|> VisGraph.withNodes([redNode ; greenNode])\n",
    "|> VisGraph.withEdge(yellowEdge)"
   ]
  }
 ],
 "metadata": {
  "kernelspec": {
   "display_name": ".NET (F#)",
   "language": "F#",
   "name": ".net-fsharp"
  },
  "polyglot_notebook": {
   "kernelInfo": {
    "defaultKernelName": "fsharp",
    "items": [
     {
      "aliases": [],
      "languageName": "fsharp",
      "name": "fsharp"
     }
    ]
   }
  }
 },
 "nbformat": 4,
 "nbformat_minor": 2
}
