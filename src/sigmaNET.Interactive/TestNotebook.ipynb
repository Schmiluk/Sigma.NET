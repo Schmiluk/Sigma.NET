{
 "cells": [
  {
   "attachments": {},
   "cell_type": "markdown",
   "metadata": {},
   "source": [
    "To reproduce the package, run `./Repack.ps1` in powershell. It will clean your cache in `~/.nuget/packages` and pack the library to `sigmaNET/pkg` folder, which you should specify below (absolute paths only) in `#i` line.\n",
    "\n",
    "The version of the package is always `0.0.0-dev`."
   ]
  },
  {
   "cell_type": "code",
   "execution_count": 5,
   "metadata": {
    "dotnet_interactive": {
     "language": "fsharp"
    },
    "polyglot_notebook": {
     "kernelName": "fsharp"
    }
   },
   "outputs": [
    {
     "data": {
      "text/html": [
       "<div><div><strong>Restore sources</strong><ul><li><span> D:/source/sigmaNET/pkg</span></li></ul></div><div></div><div><strong>Installed Packages</strong><ul><li><span>Giraffe.ViewEngine, 1.4.0</span></li><li><span>Graphoscope, 0.4.0</span></li><li><span>sigmaNET, 0.0.0-dev</span></li><li><span>sigmaNET.Interactive, 0.0.0-dev</span></li></ul></div></div>"
      ]
     },
     "metadata": {},
     "output_type": "display_data"
    }
   ],
   "source": [
    "// be advised, that you always should set absolute paths for local nuget packages - change this to reflect your own setup\n",
    "#r \"nuget: Giraffe.ViewEngine\"\n",
    "#i \"nuget: D:/source/sigmaNET/pkg\"\n",
    "#r \"nuget: sigmaNET, 0.0.0-dev\"\n",
    "#r \"nuget: sigmaNET.Interactive, 0.0.0-dev\"\n",
    "#r \"nuget: Graphoscope, 0.4.0\""
   ]
  },
  {
   "cell_type": "code",
   "execution_count": 4,
   "metadata": {
    "dotnet_interactive": {
     "language": "fsharp"
    }
   },
   "outputs": [
    {
     "data": {
      "text/html": [
       "<div id=\"graph\"><div id=\"e72c8c5d214\" style=\"width: 100%; height: 300px\">&nbsp<!-- SigmaNET graph will be drawn inside this DIV --></div><script type=\"text/javascript\">\r\n",
       "\r\n",
       "    require([\r\n",
       "        'https://cdnjs.cloudflare.com/ajax/libs/graphology/0.25.4/graphology.umd.min.js',\r\n",
       "        'https://cdnjs.cloudflare.com/ajax/libs/sigma.js/2.4.0/sigma.min.js',\r\n",
       "        'https://cdn.jsdelivr.net/npm/graphology-library@0.8.0/dist/graphology-library.min.js',\r\n",
       "    ], (graphology,_,graphologyLibrary)=>{          \r\n",
       "            const container = document.getElementById(\"e72c8c5d214\");\r\n",
       "            const graph = new graphology.Graph();\r\n",
       "            graph.import({\"nodes\":[{\"key\":\"n1\",\"attributes\":{\"x\":1,\"y\":2,\"size\":7,\"color\":\"#FA7070\"}},{\"key\":\"n2\",\"attributes\":{\"x\":3,\"y\":4,\"size\":2,\"color\":\"#FA7070\"}},{\"key\":\"n3\",\"attributes\":{\"x\":5,\"y\":8,\"size\":9,\"color\":\"#A6CF98\"}}],\"edges\":[{\"source\":\"n1\",\"target\":\"n2\"},{\"source\":\"n2\",\"target\":\"n3\"}]});\r\n",
       "            graphologyLibrary.layout.circular.assign(graph, {});  \r\n",
       "            const renderer = new Sigma(graph, container);\r\n",
       "        \r\n",
       "        });\r\n",
       "    </script></div>"
      ]
     },
     "metadata": {},
     "output_type": "display_data"
    }
   ],
   "source": [
    "open sigmaNET\n",
    "open sigmaNET.Interactive\n",
    "\n",
    "let rnd = new Random()\n",
    "let colors = [|\"#F2FFE9\";\"#A6CF98\";\"#557C55\";\"#FA7070\"|]\n",
    "\n",
    "Graph.empty()\n",
    "|> Graph.withNodes [\n",
    "        Node.Init(key=string \"n1\", X=1, Y=2, Size=rnd.Next(1, 18), Color=colors.[rnd.Next(0, 4)])\n",
    "        Node.Init(key=string \"n2\", X=3, Y=4, Size=rnd.Next(1, 18), Color=colors.[rnd.Next(0, 4)])\n",
    "        Node.Init(key=string \"n3\", X=5, Y=8, Size=rnd.Next(1, 18), Color=colors.[rnd.Next(0, 4)])\n",
    "    ]\n",
    "|> Graph.withEdges [\n",
    "        Edge.Init(\"n1\", \"n2\")\n",
    "        Edge.Init(\"n2\", \"n3\")\n",
    "    ]\n",
    "|> Graph.withCircularLayout()\n",
    "|> Graph.withSize(CssLength.Percent(100), CssLength.PX(300))\n"
   ]
  },
  {
   "cell_type": "code",
   "execution_count": 10,
   "metadata": {
    "dotnet_interactive": {
     "language": "fsharp"
    },
    "polyglot_notebook": {
     "kernelName": "fsharp"
    }
   },
   "outputs": [],
   "source": [
    "\n",
    "open Graphoscope\n",
    "open Graphoscope.RandomModels\n",
    "\n",
    "let colors = [|\"#F2FFE9\";\"#A6CF98\";\"#557C55\";\"#FA7070\"|]\n",
    "\n",
    "let N = 5000\n",
    "let p = 0.005\n",
    "let rnd = new Random()\n",
    "let random_number = rnd.Next(1, 51)\n",
    "\n",
    "let myBollobasRiordan = RandomModels.BollobasRiordan.initDirectedFGraph  N 0.5 0.1 0.4 0.6 0.4 FGraph.empty\n",
    "\n",
    "Graph.empty()\n",
    "|> Graph.withNodes[\n",
    "    for node in myBollobasRiordan do\n",
    "        yield (Node.Init(key=string node.Key, Size=rnd.Next(1, 18), Color=colors.[rnd.Next(0, 4)]))\n",
    "\n",
    "]\n",
    "|> Graph.withEdges [\n",
    "    for node in myBollobasRiordan do\n",
    "        let pred,t,_ = node.Value\n",
    "        for kv in pred do\n",
    "            yield (Edge.Init(source=string kv.Key, target=string t,Size=rnd.Next(1, 3)) )\n",
    "\n",
    "]\n",
    "\n",
    "|> Graph.withForceAtlas2(Iterations=100,Settings=FA2Settings.Init(AdjustSizes=true,Gravity=5),GetEdgeWeight=\"size\")\n",
    "// |> Graph.withNoverlap(50)\n",
    "//|> Graph.withCircularLayout()"
   ]
  }
 ],
 "metadata": {
  "kernelspec": {
   "display_name": ".NET (C#)",
   "language": "C#",
   "name": ".net-csharp"
  },
  "language_info": {
   "name": "polyglot-notebook"
  },
  "polyglot_notebook": {
   "kernelInfo": {
    "defaultKernelName": "csharp",
    "items": [
     {
      "aliases": [],
      "name": "csharp"
     },
     {
      "aliases": [
       "frontend"
      ],
      "name": "vscode"
     }
    ]
   }
  }
 },
 "nbformat": 4,
 "nbformat_minor": 2
}
