{
 "cells": [
  {
   "attachments": {},
   "cell_type": "markdown",
   "metadata": {},
   "source": [
    "To reproduce the package, run `./Repack.ps1` in powershell. It will clean your cache in `~/.nuget/packages` and pack the library to `sigmaNET/pkg` folder, which you should specify below (absolute paths only) in `#i` line.\n",
    "\n",
    "The version of the package is always `0.0.0-dev`."
   ]
  },
  {
   "cell_type": "code",
   "execution_count": 1,
   "metadata": {
    "dotnet_interactive": {
     "language": "fsharp"
    },
    "polyglot_notebook": {
     "kernelName": "fsharp"
    }
   },
   "outputs": [
    {
     "data": {
      "text/html": [
       "<div><div><strong>Restore sources</strong><ul><li><span> C:/Users/schne/source/repos/fslaborg/sigmaNET/pkg</span></li></ul></div><div></div><div><strong>Installed Packages</strong><ul><li><span>Giraffe.ViewEngine, 1.4.0</span></li><li><span>sigmaNET, 0.0.0-dev</span></li><li><span>sigmaNET.Interactive, 0.0.0-dev</span></li></ul></div></div>"
      ]
     },
     "metadata": {},
     "output_type": "display_data"
    },
    {
     "data": {
      "text/plain": [
       "Loading extensions from `C:\\Users\\schne\\.nuget\\packages\\sigmanet.interactive\\0.0.0-dev\\lib\\net6.0\\sigmaNET.Interactive.dll`"
      ]
     },
     "metadata": {},
     "output_type": "display_data"
    }
   ],
   "source": [
    "// be advised, that you always should set absolute paths for local nuget packages - change this to reflect your own setup\n",
    "#r \"nuget: Giraffe.ViewEngine\"\n",
    "#i \"nuget: C:/Users/schne/source/repos/fslaborg/sigmaNET/pkg\"\n",
    "#r \"nuget: sigmaNET, 0.0.0-dev\"\n",
    "#r \"nuget: sigmaNET.Interactive, 0.0.0-dev\""
   ]
  },
  {
   "cell_type": "code",
   "execution_count": 6,
   "metadata": {
    "dotnet_interactive": {
     "language": "fsharp"
    }
   },
   "outputs": [
    {
     "data": {
      "text/html": [
       "<div id=\"graph\"><div id=\"e1a7452435d\" style=\"width: 100%; height: 300px\">&nbsp<!-- SigmaNET graph will be drawn inside this DIV --></div><script type=\"text/javascript\">\r\n",
       "\r\n",
       "    require([\r\n",
       "        'https://cdnjs.cloudflare.com/ajax/libs/graphology/0.25.4/graphology.umd.min.js',\r\n",
       "        'https://cdnjs.cloudflare.com/ajax/libs/sigma.js/2.4.0/sigma.min.js',\r\n",
       "        'https://cdnjs.cloudflare.com/ajax/libs/sigma.js/2.4.0/sigma.min.js',\r\n",
       "    ], (graphology,_,graphologyLibrary)=>{          \r\n",
       "            const container = document.getElementById(\"e1a7452435d\");\r\n",
       "            const graph = new graphology.Graph();\r\n",
       "            graph.import({\"nodes\":[{\"key\":\"n1\",\"attributes\":{\"x\":1,\"y\":2,\"size\":16,\"color\":\"#A6CF98\"}},{\"key\":\"n2\",\"attributes\":{\"x\":3,\"y\":4,\"size\":12,\"color\":\"#FA7070\"}},{\"key\":\"n3\",\"attributes\":{\"x\":5,\"y\":8,\"size\":5,\"color\":\"#A6CF98\"}}],\"edges\":[{\"source\":\"n1\",\"target\":\"n2\"},{\"source\":\"n2\",\"target\":\"n3\"}]});\r\n",
       "              \r\n",
       "            const renderer = new Sigma(graph, container);\r\n",
       "        \r\n",
       "        });\r\n",
       "    </script></div>"
      ]
     },
     "metadata": {},
     "output_type": "display_data"
    }
   ],
   "source": [
    "open sigmaNET\n",
    "open sigmaNET.Interactive\n",
    "\n",
    "let rnd = new Random()\n",
    "let colors = [|\"#F2FFE9\";\"#A6CF98\";\"#557C55\";\"#FA7070\"|]\n",
    "\n",
    "Graph.empty()\n",
    "|> Graph.withNodes [\n",
    "        Node.Init(key=string \"n1\", X=1, Y=2, Size=rnd.Next(1, 18), Color=colors.[rnd.Next(0, 4)])\n",
    "        Node.Init(key=string \"n2\", X=3, Y=4, Size=rnd.Next(1, 18), Color=colors.[rnd.Next(0, 4)])\n",
    "        Node.Init(key=string \"n3\", X=5, Y=8, Size=rnd.Next(1, 18), Color=colors.[rnd.Next(0, 4)])\n",
    "    ]\n",
    "|> Graph.withEdges [\n",
    "        Edge.Init(\"n1\", \"n2\")\n",
    "        Edge.Init(\"n2\", \"n3\")\n",
    "    ]\n",
    "\n",
    "|> Graph.withSize(CssLength.Percent(100), CssLength.PX(300))"
   ]
  },
  {
   "cell_type": "code",
   "execution_count": 8,
   "metadata": {
    "dotnet_interactive": {
     "language": "html"
    },
    "polyglot_notebook": {
     "kernelName": "html"
    }
   },
   "outputs": [
    {
     "data": {
      "text/html": [
       "<div id=\"graph\"><div id=\"x\" style=\"width: 100%; height: 300px\"><!-- SigmaNET graph will be drawn inside this DIV --></div><script type=\"text/javascript\">\r\n",
       "\r\n",
       "require([\r\n",
       "    'https://cdnjs.cloudflare.com/ajax/libs/graphology/0.25.4/graphology.umd.min.js',\r\n",
       "    'https://cdnjs.cloudflare.com/ajax/libs/sigma.js/2.4.0/sigma.min.js'\r\n",
       "], (graphology,_,graphologyLibrary)=>{          \r\n",
       "        const container = document.getElementById(\"x\");\r\n",
       "        const graph = new graphology.Graph();\r\n",
       "        graph.import({\"nodes\":[{\"key\":\"n1\",\"attributes\":{\"x\":1,\"y\":2,\"size\":1,\"color\":\"#557C55\"}},{\"key\":\"n2\",\"attributes\":{\"x\":3,\"y\":4,\"size\":7,\"color\":\"#F2FFE9\"}},{\"key\":\"n3\",\"attributes\":{\"x\":5,\"y\":8,\"size\":7,\"color\":\"#FA7070\"}}],\"edges\":[{\"source\":\"n1\",\"target\":\"n2\"},{\"source\":\"n2\",\"target\":\"n3\"}]});\r\n",
       "        \r\n",
       "        const renderer = new Sigma(graph, container);\r\n",
       "\r\n",
       "    });\r\n",
       "\r\n",
       "</script>"
      ]
     },
     "metadata": {},
     "output_type": "display_data"
    }
   ],
   "source": [
    "<div id=\"graph\"><div id=\"x\" style=\"width: 100%; height: 300px\"><!-- SigmaNET graph will be drawn inside this DIV --></div><script type=\"text/javascript\">\n",
    "\n",
    "require([\n",
    "    'https://cdnjs.cloudflare.com/ajax/libs/graphology/0.25.4/graphology.umd.min.js',\n",
    "    'https://cdnjs.cloudflare.com/ajax/libs/sigma.js/2.4.0/sigma.min.js'\n",
    "], (graphology,_,graphologyLibrary)=>{          \n",
    "        const container = document.getElementById(\"x\");\n",
    "        const graph = new graphology.Graph();\n",
    "        graph.import({\"nodes\":[{\"key\":\"n1\",\"attributes\":{\"x\":1,\"y\":2,\"size\":1,\"color\":\"#557C55\"}},{\"key\":\"n2\",\"attributes\":{\"x\":3,\"y\":4,\"size\":7,\"color\":\"#F2FFE9\"}},{\"key\":\"n3\",\"attributes\":{\"x\":5,\"y\":8,\"size\":7,\"color\":\"#FA7070\"}}],\"edges\":[{\"source\":\"n1\",\"target\":\"n2\"},{\"source\":\"n2\",\"target\":\"n3\"}]});\n",
    "        \n",
    "        const renderer = new Sigma(graph, container);\n",
    "\n",
    "    });\n",
    "\n",
    "</script>"
   ]
  },
  {
   "cell_type": "code",
   "execution_count": 16,
   "metadata": {
    "dotnet_interactive": {
     "language": "html"
    },
    "polyglot_notebook": {
     "kernelName": "html"
    }
   },
   "outputs": [
    {
     "data": {
      "text/html": [
       "<div id=\"e0a8810e1e2\" style=\"width: 100%; height: 300px\">&nbsp<!-- SigmaNET graph will be drawn inside this DIV --></div><script type=\"text/javascript\">\r\n",
       "\r\n",
       "require([\r\n",
       "    'https://cdnjs.cloudflare.com/ajax/libs/graphology/0.25.4/graphology.umd.min.js',\r\n",
       "    'https://cdnjs.cloudflare.com/ajax/libs/sigma.js/2.4.0/sigma.min.js',\r\n",
       "], (graphology,_,graphologyLibrary)=>{          \r\n",
       "        const container = document.getElementById(\"e0a8810e1e2\");\r\n",
       "        const graph = new graphology.Graph();\r\n",
       "        graph.import({\"nodes\":[{\"key\":\"n1\",\"attributes\":{\"x\":1,\"y\":2,\"size\":12,\"color\":\"#F2FFE9\"}},{\"key\":\"n2\",\"attributes\":{\"x\":3,\"y\":4,\"size\":8,\"color\":\"#557C55\"}},{\"key\":\"n3\",\"attributes\":{\"x\":5,\"y\":8,\"size\":12,\"color\":\"#F2FFE9\"}}],\"edges\":[{\"source\":\"n1\",\"target\":\"n2\"},{\"source\":\"n2\",\"target\":\"n3\"}]});\r\n",
       "            \r\n",
       "        const renderer = new Sigma(graph, container);\r\n",
       "    \r\n",
       "    });\r\n",
       "</script>"
      ]
     },
     "metadata": {},
     "output_type": "display_data"
    }
   ],
   "source": [
    "<div id=\"e0a8810e1e2\" style=\"width: 100%; height: 300px\">&nbsp<!-- SigmaNET graph will be drawn inside this DIV --></div><script type=\"text/javascript\">\n",
    "\n",
    "require([\n",
    "    'https://cdnjs.cloudflare.com/ajax/libs/graphology/0.25.4/graphology.umd.min.js',\n",
    "    'https://cdnjs.cloudflare.com/ajax/libs/sigma.js/2.4.0/sigma.min.js',\n",
    "], (graphology,_,graphologyLibrary)=>{          \n",
    "        const container = document.getElementById(\"e0a8810e1e2\");\n",
    "        const graph = new graphology.Graph();\n",
    "        graph.import({\"nodes\":[{\"key\":\"n1\",\"attributes\":{\"x\":1,\"y\":2,\"size\":12,\"color\":\"#F2FFE9\"}},{\"key\":\"n2\",\"attributes\":{\"x\":3,\"y\":4,\"size\":8,\"color\":\"#557C55\"}},{\"key\":\"n3\",\"attributes\":{\"x\":5,\"y\":8,\"size\":12,\"color\":\"#F2FFE9\"}}],\"edges\":[{\"source\":\"n1\",\"target\":\"n2\"},{\"source\":\"n2\",\"target\":\"n3\"}]});\n",
    "            \n",
    "        const renderer = new Sigma(graph, container);\n",
    "    \n",
    "    });\n",
    "</script>"
   ]
  }
 ],
 "metadata": {
  "kernelspec": {
   "display_name": ".NET (C#)",
   "language": "C#",
   "name": ".net-csharp"
  },
  "language_info": {
   "name": "polyglot-notebook"
  },
  "polyglot_notebook": {
   "kernelInfo": {
    "defaultKernelName": "csharp",
    "items": [
     {
      "aliases": [],
      "name": "csharp"
     },
     {
      "aliases": [
       "frontend"
      ],
      "name": "vscode"
     }
    ]
   }
  }
 },
 "nbformat": 4,
 "nbformat_minor": 2
}
