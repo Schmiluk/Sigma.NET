{
 "cells": [
  {
   "attachments": {},
   "cell_type": "markdown",
   "metadata": {},
   "source": [
    "To reproduce the package, run `./Repack.ps1` in powershell. It will clean your cache in `~/.nuget/packages` and pack the library to `sigmaNET/pkg` folder, which you should specify below (absolute paths only) in `#i` line.\n",
    "\n",
    "The version of the package is always `0.0.0-dev`."
   ]
  },
  {
   "cell_type": "code",
   "execution_count": 1,
   "metadata": {
    "dotnet_interactive": {
     "language": "fsharp"
    },
    "polyglot_notebook": {
     "kernelName": "fsharp"
    }
   },
   "outputs": [
    {
     "data": {
      "text/html": [
       "<div><div><strong>Restore sources</strong><ul><li><span> D:/source/sigmaNET/pkg</span></li></ul></div><div></div><div><strong>Installed Packages</strong><ul><li><span>Giraffe.ViewEngine, 1.4.0</span></li><li><span>Plotly.NET, 4.2.0</span></li><li><span>sigmaNET, 0.0.0-dev</span></li><li><span>sigmaNET.Interactive, 0.0.0-dev</span></li></ul></div></div>"
      ]
     },
     "metadata": {},
     "output_type": "display_data"
    },
    {
     "data": {
      "text/plain": [
       "Loading extensions from `C:\\Users\\muehl\\.nuget\\packages\\sigmanet.interactive\\0.0.0-dev\\lib\\net6.0\\sigmaNET.Interactive.dll`"
      ]
     },
     "metadata": {},
     "output_type": "display_data"
    }
   ],
   "source": [
    "// be advised, that you always should set absolute paths for local nuget packages - change this to reflect your own setup\n",
    "#r \"nuget: Plotly.NET\"\n",
    "#r \"nuget: Giraffe.ViewEngine\"\n",
    "#i \"nuget: D:/source/sigmaNET/pkg\"\n",
    "#r \"nuget: sigmaNET, 0.0.0-dev\"\n",
    "#r \"nuget: sigmaNET.Interactive, 0.0.0-dev\""
   ]
  },
  {
   "cell_type": "code",
   "execution_count": 3,
   "metadata": {
    "dotnet_interactive": {
     "language": "fsharp"
    }
   },
   "outputs": [
    {
     "data": {
      "text/plain": [
       "C:\\Users\\muehl"
      ]
     },
     "metadata": {},
     "output_type": "display_data"
    }
   ],
   "source": [
    "open sigmaNET\n",
    "open sigmaNET.Interactive\n",
    "\n",
    "let asssa = (InternalUtils.getSigmaNETLibraryJS())\n",
    "//asssa.GetManifestResourceNames()\n",
    "\n",
    "\n",
    "InternalUtils.getFullGraphologyLibraryJS()\n",
    "InternalUtils.getSourceDirectory()\n",
    "Environment.GetFolderPath(Environment.SpecialFolder.UserProfile)\n",
    "// let rnd = new Random()\n",
    "// let colors = [|\"#F2FFE9\";\"#A6CF98\";\"#557C55\";\"#FA7070\"|]\n",
    "\n",
    "// Graph.empty()\n",
    "// |> Graph.withNodes [\n",
    "//         Node.Init(key=string \"n1\", X=1, Y=2, Size=rnd.Next(1, 18), Color=colors.[rnd.Next(0, 4)])\n",
    "//         Node.Init(key=string \"n2\", X=3, Y=4, Size=rnd.Next(1, 18), Color=colors.[rnd.Next(0, 4)])\n",
    "//         Node.Init(key=string \"n3\", X=5, Y=8, Size=rnd.Next(1, 18), Color=colors.[rnd.Next(0, 4)])\n",
    "//     ]\n",
    "// |> Graph.withEdges [\n",
    "//         Edge.Init(\"n1\", \"n2\")\n",
    "//         Edge.Init(\"n2\", \"n3\")\n",
    "//     ]\n",
    "// //|> sigmaNET.Interactive.Formatters.toInteractiveHTML"
   ]
  }
 ],
 "metadata": {
  "kernelspec": {
   "display_name": ".NET (C#)",
   "language": "C#",
   "name": ".net-csharp"
  },
  "language_info": {
   "name": "polyglot-notebook"
  },
  "polyglot_notebook": {
   "kernelInfo": {
    "defaultKernelName": "csharp",
    "items": [
     {
      "aliases": [],
      "name": "csharp"
     },
     {
      "aliases": [
       "frontend"
      ],
      "name": "vscode"
     }
    ]
   }
  }
 },
 "nbformat": 4,
 "nbformat_minor": 2
}
